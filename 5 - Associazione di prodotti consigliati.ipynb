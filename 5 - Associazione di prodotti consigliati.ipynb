{
 "cells": [
  {
   "cell_type": "markdown",
   "id": "615869a6",
   "metadata": {},
   "source": [
    "# 5 - Associazione di prodotti consigliati"
   ]
  },
  {
   "cell_type": "markdown",
   "id": "52069b08",
   "metadata": {},
   "source": [
    "Intersecando l'insieme degli antecedents delle regole di associazione e l'insieme degli items contenuti nell'ultimo acquisto di ognuno dei clienti target, ottengo l'insieme dei prodotti da consigliare per il prossimo acquisto (il consequent della regola). "
   ]
  },
  {
   "cell_type": "code",
   "execution_count": 1,
   "id": "1c8fdf82",
   "metadata": {},
   "outputs": [],
   "source": [
    "import pandas as pd"
   ]
  },
  {
   "cell_type": "code",
   "execution_count": 2,
   "id": "cabce7d9",
   "metadata": {},
   "outputs": [],
   "source": [
    "pd.set_option('display.max_colwidth', None)"
   ]
  },
  {
   "cell_type": "code",
   "execution_count": 3,
   "id": "4decc688",
   "metadata": {},
   "outputs": [
    {
     "data": {
      "text/html": [
       "<div>\n",
       "<style scoped>\n",
       "    .dataframe tbody tr th:only-of-type {\n",
       "        vertical-align: middle;\n",
       "    }\n",
       "\n",
       "    .dataframe tbody tr th {\n",
       "        vertical-align: top;\n",
       "    }\n",
       "\n",
       "    .dataframe thead th {\n",
       "        text-align: right;\n",
       "    }\n",
       "</style>\n",
       "<table border=\"1\" class=\"dataframe\">\n",
       "  <thead>\n",
       "    <tr style=\"text-align: right;\">\n",
       "      <th></th>\n",
       "      <th>antecedents</th>\n",
       "      <th>consequents</th>\n",
       "      <th>antecedent support</th>\n",
       "      <th>consequent support</th>\n",
       "      <th>support</th>\n",
       "      <th>confidence</th>\n",
       "      <th>lift</th>\n",
       "      <th>leverage</th>\n",
       "      <th>conviction</th>\n",
       "    </tr>\n",
       "  </thead>\n",
       "  <tbody>\n",
       "    <tr>\n",
       "      <th>0</th>\n",
       "      <td>frozenset({'20724'})</td>\n",
       "      <td>frozenset({'22356'})</td>\n",
       "      <td>0.045999</td>\n",
       "      <td>0.034789</td>\n",
       "      <td>0.023966</td>\n",
       "      <td>0.521008</td>\n",
       "      <td>14.976097</td>\n",
       "      <td>0.022366</td>\n",
       "      <td>2.015089</td>\n",
       "    </tr>\n",
       "    <tr>\n",
       "      <th>1</th>\n",
       "      <td>frozenset({'22356'})</td>\n",
       "      <td>frozenset({'20724'})</td>\n",
       "      <td>0.034789</td>\n",
       "      <td>0.045999</td>\n",
       "      <td>0.023966</td>\n",
       "      <td>0.688889</td>\n",
       "      <td>14.976097</td>\n",
       "      <td>0.022366</td>\n",
       "      <td>3.066431</td>\n",
       "    </tr>\n",
       "    <tr>\n",
       "      <th>2</th>\n",
       "      <td>frozenset({'20725'})</td>\n",
       "      <td>frozenset({'20726'})</td>\n",
       "      <td>0.071898</td>\n",
       "      <td>0.043293</td>\n",
       "      <td>0.024739</td>\n",
       "      <td>0.344086</td>\n",
       "      <td>7.947773</td>\n",
       "      <td>0.021626</td>\n",
       "      <td>1.458585</td>\n",
       "    </tr>\n",
       "    <tr>\n",
       "      <th>3</th>\n",
       "      <td>frozenset({'20726'})</td>\n",
       "      <td>frozenset({'20725'})</td>\n",
       "      <td>0.043293</td>\n",
       "      <td>0.071898</td>\n",
       "      <td>0.024739</td>\n",
       "      <td>0.571429</td>\n",
       "      <td>7.947773</td>\n",
       "      <td>0.021626</td>\n",
       "      <td>2.165571</td>\n",
       "    </tr>\n",
       "    <tr>\n",
       "      <th>4</th>\n",
       "      <td>frozenset({'20725'})</td>\n",
       "      <td>frozenset({'20727'})</td>\n",
       "      <td>0.071898</td>\n",
       "      <td>0.058369</td>\n",
       "      <td>0.028218</td>\n",
       "      <td>0.392473</td>\n",
       "      <td>6.724026</td>\n",
       "      <td>0.024021</td>\n",
       "      <td>1.549942</td>\n",
       "    </tr>\n",
       "  </tbody>\n",
       "</table>\n",
       "</div>"
      ],
      "text/plain": [
       "            antecedents           consequents  antecedent support  \\\n",
       "0  frozenset({'20724'})  frozenset({'22356'})            0.045999   \n",
       "1  frozenset({'22356'})  frozenset({'20724'})            0.034789   \n",
       "2  frozenset({'20725'})  frozenset({'20726'})            0.071898   \n",
       "3  frozenset({'20726'})  frozenset({'20725'})            0.043293   \n",
       "4  frozenset({'20725'})  frozenset({'20727'})            0.071898   \n",
       "\n",
       "   consequent support   support  confidence       lift  leverage  conviction  \n",
       "0            0.034789  0.023966    0.521008  14.976097  0.022366    2.015089  \n",
       "1            0.045999  0.023966    0.688889  14.976097  0.022366    3.066431  \n",
       "2            0.043293  0.024739    0.344086   7.947773  0.021626    1.458585  \n",
       "3            0.071898  0.024739    0.571429   7.947773  0.021626    2.165571  \n",
       "4            0.058369  0.028218    0.392473   6.724026  0.024021    1.549942  "
      ]
     },
     "execution_count": 3,
     "metadata": {},
     "output_type": "execute_result"
    }
   ],
   "source": [
    "rules = pd.read_csv('rules.csv')\n",
    "rules.head()"
   ]
  },
  {
   "cell_type": "code",
   "execution_count": 4,
   "id": "0c087e2a",
   "metadata": {},
   "outputs": [],
   "source": [
    "buyed_items_per_cust = pd.read_csv('buyed_items_per_customer.csv')"
   ]
  },
  {
   "cell_type": "code",
   "execution_count": 5,
   "id": "6b16b1c3",
   "metadata": {},
   "outputs": [
    {
     "data": {
      "text/html": [
       "<div>\n",
       "<style scoped>\n",
       "    .dataframe tbody tr th:only-of-type {\n",
       "        vertical-align: middle;\n",
       "    }\n",
       "\n",
       "    .dataframe tbody tr th {\n",
       "        vertical-align: top;\n",
       "    }\n",
       "\n",
       "    .dataframe thead th {\n",
       "        text-align: right;\n",
       "    }\n",
       "</style>\n",
       "<table border=\"1\" class=\"dataframe\">\n",
       "  <thead>\n",
       "    <tr style=\"text-align: right;\">\n",
       "      <th></th>\n",
       "      <th>CustomerID</th>\n",
       "      <th>InvoiceDate</th>\n",
       "      <th>StockCode</th>\n",
       "    </tr>\n",
       "  </thead>\n",
       "  <tbody>\n",
       "    <tr>\n",
       "      <th>0</th>\n",
       "      <td>12415.0</td>\n",
       "      <td>2011-01-06 11:12:00</td>\n",
       "      <td>{'22077', '21915', '21238', '22522', '21891', '22620', '22378', '21914', '22524', '20677', '22492'}</td>\n",
       "    </tr>\n",
       "    <tr>\n",
       "      <th>1</th>\n",
       "      <td>12415.0</td>\n",
       "      <td>2011-02-15 09:52:00</td>\n",
       "      <td>{'22617', '22716', '21086', '22907', '21058', '23231', '22654', '20973', '21977', '22630', '22613', '21094', '23230', '22417', '21212'}</td>\n",
       "    </tr>\n",
       "    <tr>\n",
       "      <th>2</th>\n",
       "      <td>12415.0</td>\n",
       "      <td>2011-03-03 10:59:00</td>\n",
       "      <td>{'21238', '22046', '22028', '22654', '22708', '21094', '21984', '21981', '22035', '21914', '22615', '21508', '22961', '22617', '22541', '21915', '21086', '22620', '20677', '22027', '22045', '21509', '22024', '22630', '22993'}</td>\n",
       "    </tr>\n",
       "    <tr>\n",
       "      <th>3</th>\n",
       "      <td>12415.0</td>\n",
       "      <td>2011-05-17 15:42:00</td>\n",
       "      <td>{'21090', '22918', '22919', '22992', '21899', '21791', '21892', '23253', '21900', '22917', '22928', '23298', '22991', '22549', '22979', '21877', '22916', '21902', '21084', '22921', '22925', '85132A', '22920', '23173'}</td>\n",
       "    </tr>\n",
       "    <tr>\n",
       "      <th>4</th>\n",
       "      <td>12415.0</td>\n",
       "      <td>2011-05-20 14:13:00</td>\n",
       "      <td>{'22712'}</td>\n",
       "    </tr>\n",
       "  </tbody>\n",
       "</table>\n",
       "</div>"
      ],
      "text/plain": [
       "   CustomerID          InvoiceDate  \\\n",
       "0     12415.0  2011-01-06 11:12:00   \n",
       "1     12415.0  2011-02-15 09:52:00   \n",
       "2     12415.0  2011-03-03 10:59:00   \n",
       "3     12415.0  2011-05-17 15:42:00   \n",
       "4     12415.0  2011-05-20 14:13:00   \n",
       "\n",
       "                                                                                                                                                                                                                           StockCode  \n",
       "0                                                                                                                                {'22077', '21915', '21238', '22522', '21891', '22620', '22378', '21914', '22524', '20677', '22492'}  \n",
       "1                                                                                            {'22617', '22716', '21086', '22907', '21058', '23231', '22654', '20973', '21977', '22630', '22613', '21094', '23230', '22417', '21212'}  \n",
       "2  {'21238', '22046', '22028', '22654', '22708', '21094', '21984', '21981', '22035', '21914', '22615', '21508', '22961', '22617', '22541', '21915', '21086', '22620', '20677', '22027', '22045', '21509', '22024', '22630', '22993'}  \n",
       "3          {'21090', '22918', '22919', '22992', '21899', '21791', '21892', '23253', '21900', '22917', '22928', '23298', '22991', '22549', '22979', '21877', '22916', '21902', '21084', '22921', '22925', '85132A', '22920', '23173'}  \n",
       "4                                                                                                                                                                                                                          {'22712'}  "
      ]
     },
     "execution_count": 5,
     "metadata": {},
     "output_type": "execute_result"
    }
   ],
   "source": [
    "buyed_items_per_cust.head()"
   ]
  },
  {
   "cell_type": "code",
   "execution_count": 6,
   "id": "2433414a",
   "metadata": {},
   "outputs": [],
   "source": [
    "buyed_items_per_cust['InvoiceDate'] = pd.to_datetime(\n",
    "        buyed_items_per_cust['InvoiceDate'])"
   ]
  },
  {
   "cell_type": "code",
   "execution_count": 7,
   "id": "6b24cf27",
   "metadata": {},
   "outputs": [],
   "source": [
    "buyed_items_per_cust = buyed_items_per_cust.loc[\n",
    "    buyed_items_per_cust.groupby('CustomerID')['InvoiceDate'].idxmax()]"
   ]
  },
  {
   "cell_type": "code",
   "execution_count": 8,
   "id": "bd3eec0d",
   "metadata": {},
   "outputs": [],
   "source": [
    "buyed_items_per_cust['predicted'] = ''\n",
    "buyed_items_per_cust['confidence'] = ''\n",
    "buyed_items_per_cust['lift'] = ''"
   ]
  },
  {
   "cell_type": "markdown",
   "id": "7688b2b4",
   "metadata": {},
   "source": [
    "### Costruisco il dataset contenente le associazioni tra clienti e prodotti consigliati, riportando i valori di lift e confidenza delle regole che hanno generato tali risultati."
   ]
  },
  {
   "cell_type": "code",
   "execution_count": 9,
   "id": "e642e2cc",
   "metadata": {},
   "outputs": [],
   "source": [
    "for i,row in buyed_items_per_cust.iterrows():\n",
    "    predicted = []\n",
    "    confidences = []\n",
    "    lifts = []\n",
    "    for i2, row2 in rules.iterrows():\n",
    "        #print(set(row['StockCode'][2:-2].split(\"', '\")))\n",
    "        #print(set(row2['antecedents'][12:-3].split(' ')))\n",
    "        subset = set((row['StockCode'][2:-2].split(\"', '\")))\n",
    "                .intersection(set(row2['antecedents'][12:-3].split(' ')))\n",
    "        if len(subset) > 0:\n",
    "            #print(subset)\n",
    "            predicted.append(row2['consequents'][11:-2])\n",
    "            confidences.append(row2['confidence'])\n",
    "            lifts.append(row2['lift'])\n",
    "    buyed_items_per_cust.loc[buyed_items_per_cust['CustomerID'] == \n",
    "                             row['CustomerID'], ['predicted']] =\n",
    "                                ' / '.join(predicted)[1:-1]\n",
    "    buyed_items_per_cust.loc[buyed_items_per_cust['CustomerID'] ==\n",
    "                             row['CustomerID'], ['confidence']]  = \n",
    "                                ' / '.join(str(confidences).split(', '))\n",
    "    buyed_items_per_cust.loc[buyed_items_per_cust['CustomerID'] ==\n",
    "                             row['CustomerID'], ['lift']]  = \n",
    "                                ' / '.join(str(lifts).split(', '))"
   ]
  },
  {
   "cell_type": "code",
   "execution_count": 10,
   "id": "7c3fbec9",
   "metadata": {},
   "outputs": [],
   "source": [
    "predictions_df = buyed_items_per_cust[buyed_items_per_cust['predicted'] !=\n",
    "        ''][['CustomerID', 'StockCode', 'predicted', 'confidence', 'lift']]"
   ]
  },
  {
   "cell_type": "code",
   "execution_count": 27,
   "id": "520255f9",
   "metadata": {},
   "outputs": [
    {
     "data": {
      "text/html": [
       "<div>\n",
       "<style scoped>\n",
       "    .dataframe tbody tr th:only-of-type {\n",
       "        vertical-align: middle;\n",
       "    }\n",
       "\n",
       "    .dataframe tbody tr th {\n",
       "        vertical-align: top;\n",
       "    }\n",
       "\n",
       "    .dataframe thead th {\n",
       "        text-align: right;\n",
       "    }\n",
       "</style>\n",
       "<table border=\"1\" class=\"dataframe\">\n",
       "  <thead>\n",
       "    <tr style=\"text-align: right;\">\n",
       "      <th></th>\n",
       "      <th>CustomerID</th>\n",
       "      <th>predicted</th>\n",
       "      <th>confidence</th>\n",
       "      <th>lift</th>\n",
       "    </tr>\n",
       "  </thead>\n",
       "  <tbody>\n",
       "    <tr>\n",
       "      <th>10</th>\n",
       "      <td>12415.0</td>\n",
       "      <td>22629</td>\n",
       "      <td>[0.7524752475247525]</td>\n",
       "      <td>[15.208230198019804]</td>\n",
       "    </tr>\n",
       "    <tr>\n",
       "      <th>23</th>\n",
       "      <td>12590.0</td>\n",
       "      <td>22356' / '22629</td>\n",
       "      <td>[0.5210084033613446 / 0.7524752475247525]</td>\n",
       "      <td>[14.976097105508872 / 15.208230198019804]</td>\n",
       "    </tr>\n",
       "    <tr>\n",
       "      <th>497</th>\n",
       "      <td>14607.0</td>\n",
       "      <td>22356' / '20724</td>\n",
       "      <td>[0.5210084033613446 / 0.688888888888889]</td>\n",
       "      <td>[14.976097105508872 / 14.976097105508872]</td>\n",
       "    </tr>\n",
       "    <tr>\n",
       "      <th>673</th>\n",
       "      <td>15061.0</td>\n",
       "      <td>22629</td>\n",
       "      <td>[0.7524752475247525]</td>\n",
       "      <td>[15.208230198019804]</td>\n",
       "    </tr>\n",
       "    <tr>\n",
       "      <th>1059</th>\n",
       "      <td>16745.0</td>\n",
       "      <td>22356' / '20724</td>\n",
       "      <td>[0.5210084033613446 / 0.688888888888889]</td>\n",
       "      <td>[14.976097105508872 / 14.976097105508872]</td>\n",
       "    </tr>\n",
       "    <tr>\n",
       "      <th>1203</th>\n",
       "      <td>17677.0</td>\n",
       "      <td>22356</td>\n",
       "      <td>[0.5210084033613446]</td>\n",
       "      <td>[14.976097105508872]</td>\n",
       "    </tr>\n",
       "  </tbody>\n",
       "</table>\n",
       "</div>"
      ],
      "text/plain": [
       "      CustomerID        predicted                                 confidence  \\\n",
       "10       12415.0            22629                       [0.7524752475247525]   \n",
       "23       12590.0  22356' / '22629  [0.5210084033613446 / 0.7524752475247525]   \n",
       "497      14607.0  22356' / '20724   [0.5210084033613446 / 0.688888888888889]   \n",
       "673      15061.0            22629                       [0.7524752475247525]   \n",
       "1059     16745.0  22356' / '20724   [0.5210084033613446 / 0.688888888888889]   \n",
       "1203     17677.0            22356                       [0.5210084033613446]   \n",
       "\n",
       "                                           lift  \n",
       "10                         [15.208230198019804]  \n",
       "23    [14.976097105508872 / 15.208230198019804]  \n",
       "497   [14.976097105508872 / 14.976097105508872]  \n",
       "673                        [15.208230198019804]  \n",
       "1059  [14.976097105508872 / 14.976097105508872]  \n",
       "1203                       [14.976097105508872]  "
      ]
     },
     "execution_count": 27,
     "metadata": {},
     "output_type": "execute_result"
    }
   ],
   "source": [
    "predictions_df[['CustomerID','predicted', 'confidence', 'lift']]"
   ]
  },
  {
   "cell_type": "code",
   "execution_count": 12,
   "id": "78949d44",
   "metadata": {},
   "outputs": [],
   "source": [
    "df = pd.read_csv('cleaned_online_retail.csv')"
   ]
  },
  {
   "cell_type": "code",
   "execution_count": 23,
   "id": "4096d69e",
   "metadata": {},
   "outputs": [],
   "source": [
    "#set(predictions_df['predicted'])\n",
    "single_elems = []\n",
    "for elem in set(predictions_df['predicted']):\n",
    "    single_elems.append(elem.split(\"' / '\").pop())"
   ]
  },
  {
   "cell_type": "code",
   "execution_count": 24,
   "id": "aee2e42b",
   "metadata": {},
   "outputs": [
    {
     "data": {
      "text/plain": [
       "['22356', '22629', '20724', '22629']"
      ]
     },
     "execution_count": 24,
     "metadata": {},
     "output_type": "execute_result"
    }
   ],
   "source": [
    "single_elems"
   ]
  },
  {
   "cell_type": "code",
   "execution_count": 26,
   "id": "fd4ad33f",
   "metadata": {},
   "outputs": [
    {
     "name": "stdout",
     "output_type": "stream",
     "text": [
      "     StockCode                  Description\n",
      "3126     20724  RED RETROSPOT CHARLOTTE BAG\n",
      "\n",
      "     StockCode                  Description\n",
      "3140     22356  CHARLOTTE BAG PINK POLKADOT\n",
      "\n",
      "   StockCode          Description\n",
      "35     22629  SPACEBOY LUNCH BOX \n",
      "\n"
     ]
    }
   ],
   "source": [
    "for el in set(single_elems):\n",
    "    print(df[df['StockCode']==el].head(1)[['StockCode','Description']])\n",
    "    print()"
   ]
  },
  {
   "cell_type": "markdown",
   "id": "d46158cd",
   "metadata": {},
   "source": [
    "# Risultato"
   ]
  },
  {
   "cell_type": "markdown",
   "id": "17efa798",
   "metadata": {},
   "source": [
    "Dall'intersezione tra l'insieme degli items contenuti nell'ultimo carrello acquistato e gli antecedents contenuti nelle regole di associazione individuate, abbiamo scoperto, per 6 clienti, la presenza di un prodotto da consigliare per il prossimo acquisto di stock.\n",
    "I tre prodotti individuati possono quindi essere inviati come campioni ai rispettivi customers, proponendo una offerta per l'acquisto di almeno un certo numero di pezzi, oppure una offerta progressiva in base alla quantità acquistata."
   ]
  },
  {
   "cell_type": "markdown",
   "id": "f8f6cd64",
   "metadata": {},
   "source": [
    "    CLIENTE                  PRODOTTI CONSIGLIATI\n",
    "\n",
    "    - 12415          SPACEBOY LUNCH BOX\n",
    "    - 12590          SPACEBOY LUNCH BOX, CHARLOTTE BAG PINK POLKADOT\n",
    "    - 14607          CHARLOTTE BAG PINK POLKADOT, RED RETROSPOT CHARLOTTE BAG\n",
    "    - 15061          SPACEBOY LUNCH BOX\n",
    "    - 16745\t      CHARLOTTE BAG PINK POLKADOT, RED RETROSPOT CHARLOTTE BAG\n",
    "    - 17677          CHARLOTTE BAG PINK POLKADOT"
   ]
  }
 ],
 "metadata": {
  "kernelspec": {
   "display_name": "Python 3 (ipykernel)",
   "language": "python",
   "name": "python3"
  },
  "language_info": {
   "codemirror_mode": {
    "name": "ipython",
    "version": 3
   },
   "file_extension": ".py",
   "mimetype": "text/x-python",
   "name": "python",
   "nbconvert_exporter": "python",
   "pygments_lexer": "ipython3",
   "version": "3.8.2"
  }
 },
 "nbformat": 4,
 "nbformat_minor": 5
}
