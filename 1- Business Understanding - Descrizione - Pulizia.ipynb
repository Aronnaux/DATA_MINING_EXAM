{
 "cells": [
  {
   "cell_type": "markdown",
   "id": "40b7b9f4",
   "metadata": {},
   "source": [
    "# Progetto per l'esame di Data Mining"
   ]
  },
  {
   "cell_type": "markdown",
   "id": "8798a6dc",
   "metadata": {},
   "source": [
    "Analisi del dataset \"Online Retail\" (https://data.world/uci/online-retail). Contenente i dati relativi alla vendita al dettaglio da parte di una azienda con sede nel Regno Unito. L'azienda vende principalmente regali unici per tutte le occasioni. Molti clienti dell'azienda sono grossisti."
   ]
  },
  {
   "cell_type": "markdown",
   "id": "10302432",
   "metadata": {},
   "source": [
    "## BUSINESS UNDERSTANDING"
   ]
  },
  {
   "cell_type": "markdown",
   "id": "5380aa9c",
   "metadata": {},
   "source": [
    "Obiettivo: Incrementare le vendite e la loyality dei clienti attraverso un’ azione di marketing mirata.\n",
    "\n",
    "Proposta: Suddivisione dei clienti sulla base del comportamento relativo agli acquisti effettuati al fine di progettare una campagna di marketing personalizzata che prevede l’invio di materiale pubblicitario, la proposta di vantaggi promozionali o l’invio di campioni omaggio."
   ]
  },
  {
   "cell_type": "markdown",
   "id": "6ec4a289",
   "metadata": {},
   "source": [
    "Il raggiungimento di tali obiettivi si suddivide in due passi principali, successivi alla fase di preparazione del dataset:\n",
    "\n",
    "- ***Step 1***: categorizzazione dei clienti basata su analisi RFM e clustering al fine di individuare le differenti tipologie di clienti cui indirizzare diverse promozioni. \n",
    "- ***Step 2***: determinazione di una offerta mirata per ogni tipologia di cliente. In questo caso specifico andremo a trattare esclusivamente i clienti che spendono molto acquistando grandi quantità di prodotti a prezzi scontati, al fine di inviare loro offerte vantaggiose e personalizzate riguardo prodotti che riteniamo possano suscitare interesse, sulla base degli ultimi prodotti acquistati."
   ]
  },
  {
   "cell_type": "markdown",
   "id": "a0bcfb50",
   "metadata": {},
   "source": [
    "# 1: DATA UNDERSTANDING"
   ]
  },
  {
   "cell_type": "markdown",
   "id": "46afd3c3",
   "metadata": {},
   "source": [
    "## IMPORT LIBRERIE E DATASET"
   ]
  },
  {
   "cell_type": "code",
   "execution_count": 1,
   "id": "740cc078",
   "metadata": {},
   "outputs": [],
   "source": [
    "import pandas as pd\n",
    "import matplotlib.pyplot as plt\n",
    "import seaborn as sns\n",
    "import datetime as dt\n",
    "import numpy as np"
   ]
  },
  {
   "cell_type": "code",
   "execution_count": 2,
   "id": "27e30b19",
   "metadata": {},
   "outputs": [],
   "source": [
    "data = pd.read_excel(\"Online Retail.xlsx\")"
   ]
  },
  {
   "cell_type": "markdown",
   "id": "b8121ed0",
   "metadata": {},
   "source": [
    "### Attributi del dataset:\n",
    "\n",
    "- **InvoiceNo**: numero di fattura. Nominale.   \n",
    "Un numero intero di 6 cifre assegnato in modo univoco ad ogni transazione. La lettera 'c' (opzionale) precedente alla parte numerica indica cancellazione.    \n",
    "\n",
    "\n",
    "- **StockCode**: codice prodotto(item). Nominale.   \n",
    "Un numero intero di 5 cifre assegnato in modo univoco a ciascun prodotto distinto.\n",
    "\n",
    "\n",
    "- **Description**: nome del prodotto(item). Nominale.\n",
    "\n",
    "\n",
    "- **Quantity**: le quantità di ciascun prodotto(item) per transazione. Numerico.\n",
    "\n",
    "\n",
    "- **InvoiceDate**: data e ora della fattura. Numerico.    \n",
    "    Il giorno e l'ora in cui è stata generata ciascuna transazione.\n",
    "\n",
    "\n",
    "\n",
    "- **UnitPrice**: prezzo unitario. Numerico.   \n",
    "    Prezzo unitario di ogni prodotto espresso in sterline\n",
    "\n",
    "\n",
    "- **CustomerID**: codice cliente. Nominale.   \n",
    "    Un numero intero di 5 cifre assegnato in modo univoco a ciascun cliente.\n",
    "\n",
    "\n",
    "- **Country**: nome del paese. Nominale.   \n",
    "    Il nome del paese in cui risiede il cliente di riferimento."
   ]
  },
  {
   "cell_type": "markdown",
   "id": "db9629ab",
   "metadata": {},
   "source": [
    "Il dataset originale contiene ***541.909*** righe e ***8*** colonne.  "
   ]
  },
  {
   "cell_type": "code",
   "execution_count": 3,
   "id": "f77701cb",
   "metadata": {},
   "outputs": [
    {
     "name": "stdout",
     "output_type": "stream",
     "text": [
      "<class 'pandas.core.frame.DataFrame'>\n",
      "RangeIndex: 541909 entries, 0 to 541908\n",
      "Data columns (total 8 columns):\n",
      " #   Column       Non-Null Count   Dtype         \n",
      "---  ------       --------------   -----         \n",
      " 0   InvoiceNo    541909 non-null  object        \n",
      " 1   StockCode    541909 non-null  object        \n",
      " 2   Description  540455 non-null  object        \n",
      " 3   Quantity     541909 non-null  int64         \n",
      " 4   InvoiceDate  541909 non-null  datetime64[ns]\n",
      " 5   UnitPrice    541909 non-null  float64       \n",
      " 6   CustomerID   406829 non-null  float64       \n",
      " 7   Country      541909 non-null  object        \n",
      "dtypes: datetime64[ns](1), float64(2), int64(1), object(4)\n",
      "memory usage: 33.1+ MB\n"
     ]
    }
   ],
   "source": [
    "data.info()"
   ]
  },
  {
   "cell_type": "code",
   "execution_count": 4,
   "id": "f108da0f",
   "metadata": {},
   "outputs": [
    {
     "data": {
      "text/html": [
       "<div>\n",
       "<style scoped>\n",
       "    .dataframe tbody tr th:only-of-type {\n",
       "        vertical-align: middle;\n",
       "    }\n",
       "\n",
       "    .dataframe tbody tr th {\n",
       "        vertical-align: top;\n",
       "    }\n",
       "\n",
       "    .dataframe thead th {\n",
       "        text-align: right;\n",
       "    }\n",
       "</style>\n",
       "<table border=\"1\" class=\"dataframe\">\n",
       "  <thead>\n",
       "    <tr style=\"text-align: right;\">\n",
       "      <th></th>\n",
       "      <th>InvoiceNo</th>\n",
       "      <th>StockCode</th>\n",
       "      <th>Description</th>\n",
       "      <th>Quantity</th>\n",
       "      <th>InvoiceDate</th>\n",
       "      <th>UnitPrice</th>\n",
       "      <th>CustomerID</th>\n",
       "      <th>Country</th>\n",
       "    </tr>\n",
       "  </thead>\n",
       "  <tbody>\n",
       "    <tr>\n",
       "      <th>0</th>\n",
       "      <td>536365</td>\n",
       "      <td>85123A</td>\n",
       "      <td>WHITE HANGING HEART T-LIGHT HOLDER</td>\n",
       "      <td>6</td>\n",
       "      <td>2010-12-01 08:26:00</td>\n",
       "      <td>2.55</td>\n",
       "      <td>17850.0</td>\n",
       "      <td>United Kingdom</td>\n",
       "    </tr>\n",
       "    <tr>\n",
       "      <th>1</th>\n",
       "      <td>536365</td>\n",
       "      <td>71053</td>\n",
       "      <td>WHITE METAL LANTERN</td>\n",
       "      <td>6</td>\n",
       "      <td>2010-12-01 08:26:00</td>\n",
       "      <td>3.39</td>\n",
       "      <td>17850.0</td>\n",
       "      <td>United Kingdom</td>\n",
       "    </tr>\n",
       "    <tr>\n",
       "      <th>2</th>\n",
       "      <td>536365</td>\n",
       "      <td>84406B</td>\n",
       "      <td>CREAM CUPID HEARTS COAT HANGER</td>\n",
       "      <td>8</td>\n",
       "      <td>2010-12-01 08:26:00</td>\n",
       "      <td>2.75</td>\n",
       "      <td>17850.0</td>\n",
       "      <td>United Kingdom</td>\n",
       "    </tr>\n",
       "    <tr>\n",
       "      <th>3</th>\n",
       "      <td>536365</td>\n",
       "      <td>84029G</td>\n",
       "      <td>KNITTED UNION FLAG HOT WATER BOTTLE</td>\n",
       "      <td>6</td>\n",
       "      <td>2010-12-01 08:26:00</td>\n",
       "      <td>3.39</td>\n",
       "      <td>17850.0</td>\n",
       "      <td>United Kingdom</td>\n",
       "    </tr>\n",
       "    <tr>\n",
       "      <th>4</th>\n",
       "      <td>536365</td>\n",
       "      <td>84029E</td>\n",
       "      <td>RED WOOLLY HOTTIE WHITE HEART.</td>\n",
       "      <td>6</td>\n",
       "      <td>2010-12-01 08:26:00</td>\n",
       "      <td>3.39</td>\n",
       "      <td>17850.0</td>\n",
       "      <td>United Kingdom</td>\n",
       "    </tr>\n",
       "  </tbody>\n",
       "</table>\n",
       "</div>"
      ],
      "text/plain": [
       "  InvoiceNo StockCode                          Description  Quantity  \\\n",
       "0    536365    85123A   WHITE HANGING HEART T-LIGHT HOLDER         6   \n",
       "1    536365     71053                  WHITE METAL LANTERN         6   \n",
       "2    536365    84406B       CREAM CUPID HEARTS COAT HANGER         8   \n",
       "3    536365    84029G  KNITTED UNION FLAG HOT WATER BOTTLE         6   \n",
       "4    536365    84029E       RED WOOLLY HOTTIE WHITE HEART.         6   \n",
       "\n",
       "          InvoiceDate  UnitPrice  CustomerID         Country  \n",
       "0 2010-12-01 08:26:00       2.55     17850.0  United Kingdom  \n",
       "1 2010-12-01 08:26:00       3.39     17850.0  United Kingdom  \n",
       "2 2010-12-01 08:26:00       2.75     17850.0  United Kingdom  \n",
       "3 2010-12-01 08:26:00       3.39     17850.0  United Kingdom  \n",
       "4 2010-12-01 08:26:00       3.39     17850.0  United Kingdom  "
      ]
     },
     "execution_count": 4,
     "metadata": {},
     "output_type": "execute_result"
    }
   ],
   "source": [
    "data.head()"
   ]
  },
  {
   "cell_type": "markdown",
   "id": "08d1483d",
   "metadata": {},
   "source": [
    "## DATA PREPARATION AND DESCRIPTION"
   ]
  },
  {
   "cell_type": "markdown",
   "id": "5253eadc",
   "metadata": {},
   "source": [
    "- ***Eliminazione valori nulli***: delle 541.909 righe del dataset, solo 406.829 presentano un valore non nullo per l’attributo «CustomerID». Per la prima fase dell’analisi (customer segmentation) è fondamentale poter distinguere i clienti, decidiamo quindi di eliminare tutte le righe in questione (che potranno essere considerate in fase di ricerca di regole di associazione, in quanto il carrello è significativo indipendentemente dalla conoscenza del cliente a cui appartiene).\n",
    "- ***Eliminazione transazioni non eseguite***: il dataset contiene anche gli acquisti non portati a termine, contrassegnati con la lettera «C» che precede l’attributo «InvoiceNo». Eliminando tali valori si ottiene un dataset composto da 39.7924 record.\n",
    "- ***Eliminazione valori negativi***: in ultimo, dalla descrizione statistica del dataset si evince che ci sono dei record con valori negativi di «Quantity» ed «UnitPrice», decido di eliminare tali record poiché potrebbero compromettere le analisi successive.\n",
    "- ***Analisi outliers***: in ultimo, analizziamo le distribuzioni degli attributi numerici per individuare l’eventuale presenza di outliers ed adottare una strategia di adeguamento/eliminazione. Guardando i due boxplot in basso si evince che i dati sembrano essere equamente distribuiti, ad esclusione di pochi punti, decido quindi, in questa prima fase, di eliminare manualmente i punti in questione e rimandare l'ulteriore analisi di outliers ai task successivi."
   ]
  },
  {
   "cell_type": "code",
   "execution_count": 5,
   "id": "10239724",
   "metadata": {},
   "outputs": [
    {
     "name": "stdout",
     "output_type": "stream",
     "text": [
      "<class 'pandas.core.frame.DataFrame'>\n",
      "Int64Index: 406829 entries, 0 to 541908\n",
      "Data columns (total 8 columns):\n",
      " #   Column       Non-Null Count   Dtype         \n",
      "---  ------       --------------   -----         \n",
      " 0   InvoiceNo    406829 non-null  object        \n",
      " 1   StockCode    406829 non-null  object        \n",
      " 2   Description  406829 non-null  object        \n",
      " 3   Quantity     406829 non-null  int64         \n",
      " 4   InvoiceDate  406829 non-null  datetime64[ns]\n",
      " 5   UnitPrice    406829 non-null  float64       \n",
      " 6   CustomerID   406829 non-null  float64       \n",
      " 7   Country      406829 non-null  object        \n",
      "dtypes: datetime64[ns](1), float64(2), int64(1), object(4)\n",
      "memory usage: 27.9+ MB\n"
     ]
    }
   ],
   "source": [
    "#elimino le righe incomplete\n",
    "data = data.dropna()\n",
    "data.info()"
   ]
  },
  {
   "cell_type": "code",
   "execution_count": 6,
   "id": "85a2d0e2",
   "metadata": {},
   "outputs": [
    {
     "data": {
      "text/html": [
       "<div>\n",
       "<style scoped>\n",
       "    .dataframe tbody tr th:only-of-type {\n",
       "        vertical-align: middle;\n",
       "    }\n",
       "\n",
       "    .dataframe tbody tr th {\n",
       "        vertical-align: top;\n",
       "    }\n",
       "\n",
       "    .dataframe thead th {\n",
       "        text-align: right;\n",
       "    }\n",
       "</style>\n",
       "<table border=\"1\" class=\"dataframe\">\n",
       "  <thead>\n",
       "    <tr style=\"text-align: right;\">\n",
       "      <th></th>\n",
       "      <th>InvoiceNo</th>\n",
       "      <th>StockCode</th>\n",
       "      <th>Description</th>\n",
       "      <th>InvoiceDate</th>\n",
       "      <th>Country</th>\n",
       "    </tr>\n",
       "  </thead>\n",
       "  <tbody>\n",
       "    <tr>\n",
       "      <th>count</th>\n",
       "      <td>406829.0</td>\n",
       "      <td>406829</td>\n",
       "      <td>406829</td>\n",
       "      <td>406829</td>\n",
       "      <td>406829</td>\n",
       "    </tr>\n",
       "    <tr>\n",
       "      <th>unique</th>\n",
       "      <td>22190.0</td>\n",
       "      <td>3684</td>\n",
       "      <td>3896</td>\n",
       "      <td>NaN</td>\n",
       "      <td>37</td>\n",
       "    </tr>\n",
       "    <tr>\n",
       "      <th>top</th>\n",
       "      <td>576339.0</td>\n",
       "      <td>85123A</td>\n",
       "      <td>WHITE HANGING HEART T-LIGHT HOLDER</td>\n",
       "      <td>NaN</td>\n",
       "      <td>United Kingdom</td>\n",
       "    </tr>\n",
       "    <tr>\n",
       "      <th>freq</th>\n",
       "      <td>542.0</td>\n",
       "      <td>2077</td>\n",
       "      <td>2070</td>\n",
       "      <td>NaN</td>\n",
       "      <td>361878</td>\n",
       "    </tr>\n",
       "    <tr>\n",
       "      <th>mean</th>\n",
       "      <td>NaN</td>\n",
       "      <td>NaN</td>\n",
       "      <td>NaN</td>\n",
       "      <td>2011-07-10 16:30:57.879207424</td>\n",
       "      <td>NaN</td>\n",
       "    </tr>\n",
       "    <tr>\n",
       "      <th>min</th>\n",
       "      <td>NaN</td>\n",
       "      <td>NaN</td>\n",
       "      <td>NaN</td>\n",
       "      <td>2010-12-01 08:26:00</td>\n",
       "      <td>NaN</td>\n",
       "    </tr>\n",
       "    <tr>\n",
       "      <th>25%</th>\n",
       "      <td>NaN</td>\n",
       "      <td>NaN</td>\n",
       "      <td>NaN</td>\n",
       "      <td>2011-04-06 15:02:00</td>\n",
       "      <td>NaN</td>\n",
       "    </tr>\n",
       "    <tr>\n",
       "      <th>50%</th>\n",
       "      <td>NaN</td>\n",
       "      <td>NaN</td>\n",
       "      <td>NaN</td>\n",
       "      <td>2011-07-31 11:48:00</td>\n",
       "      <td>NaN</td>\n",
       "    </tr>\n",
       "    <tr>\n",
       "      <th>75%</th>\n",
       "      <td>NaN</td>\n",
       "      <td>NaN</td>\n",
       "      <td>NaN</td>\n",
       "      <td>2011-10-20 13:06:00</td>\n",
       "      <td>NaN</td>\n",
       "    </tr>\n",
       "    <tr>\n",
       "      <th>max</th>\n",
       "      <td>NaN</td>\n",
       "      <td>NaN</td>\n",
       "      <td>NaN</td>\n",
       "      <td>2011-12-09 12:50:00</td>\n",
       "      <td>NaN</td>\n",
       "    </tr>\n",
       "  </tbody>\n",
       "</table>\n",
       "</div>"
      ],
      "text/plain": [
       "        InvoiceNo StockCode                         Description  \\\n",
       "count    406829.0    406829                              406829   \n",
       "unique    22190.0      3684                                3896   \n",
       "top      576339.0    85123A  WHITE HANGING HEART T-LIGHT HOLDER   \n",
       "freq        542.0      2077                                2070   \n",
       "mean          NaN       NaN                                 NaN   \n",
       "min           NaN       NaN                                 NaN   \n",
       "25%           NaN       NaN                                 NaN   \n",
       "50%           NaN       NaN                                 NaN   \n",
       "75%           NaN       NaN                                 NaN   \n",
       "max           NaN       NaN                                 NaN   \n",
       "\n",
       "                          InvoiceDate         Country  \n",
       "count                          406829          406829  \n",
       "unique                            NaN              37  \n",
       "top                               NaN  United Kingdom  \n",
       "freq                              NaN          361878  \n",
       "mean    2011-07-10 16:30:57.879207424             NaN  \n",
       "min               2010-12-01 08:26:00             NaN  \n",
       "25%               2011-04-06 15:02:00             NaN  \n",
       "50%               2011-07-31 11:48:00             NaN  \n",
       "75%               2011-10-20 13:06:00             NaN  \n",
       "max               2011-12-09 12:50:00             NaN  "
      ]
     },
     "execution_count": 6,
     "metadata": {},
     "output_type": "execute_result"
    }
   ],
   "source": [
    "data.describe(exclude='number', datetime_is_numeric=True)"
   ]
  },
  {
   "cell_type": "code",
   "execution_count": 7,
   "id": "d5fd2b06",
   "metadata": {},
   "outputs": [
    {
     "data": {
      "text/html": [
       "<div>\n",
       "<style scoped>\n",
       "    .dataframe tbody tr th:only-of-type {\n",
       "        vertical-align: middle;\n",
       "    }\n",
       "\n",
       "    .dataframe tbody tr th {\n",
       "        vertical-align: top;\n",
       "    }\n",
       "\n",
       "    .dataframe thead th {\n",
       "        text-align: right;\n",
       "    }\n",
       "</style>\n",
       "<table border=\"1\" class=\"dataframe\">\n",
       "  <thead>\n",
       "    <tr style=\"text-align: right;\">\n",
       "      <th></th>\n",
       "      <th>Quantity</th>\n",
       "      <th>UnitPrice</th>\n",
       "      <th>CustomerID</th>\n",
       "    </tr>\n",
       "  </thead>\n",
       "  <tbody>\n",
       "    <tr>\n",
       "      <th>count</th>\n",
       "      <td>406829.000000</td>\n",
       "      <td>406829.000000</td>\n",
       "      <td>406829.000000</td>\n",
       "    </tr>\n",
       "    <tr>\n",
       "      <th>mean</th>\n",
       "      <td>12.061303</td>\n",
       "      <td>3.460471</td>\n",
       "      <td>15287.690570</td>\n",
       "    </tr>\n",
       "    <tr>\n",
       "      <th>std</th>\n",
       "      <td>248.693370</td>\n",
       "      <td>69.315162</td>\n",
       "      <td>1713.600303</td>\n",
       "    </tr>\n",
       "    <tr>\n",
       "      <th>min</th>\n",
       "      <td>-80995.000000</td>\n",
       "      <td>0.000000</td>\n",
       "      <td>12346.000000</td>\n",
       "    </tr>\n",
       "    <tr>\n",
       "      <th>25%</th>\n",
       "      <td>2.000000</td>\n",
       "      <td>1.250000</td>\n",
       "      <td>13953.000000</td>\n",
       "    </tr>\n",
       "    <tr>\n",
       "      <th>50%</th>\n",
       "      <td>5.000000</td>\n",
       "      <td>1.950000</td>\n",
       "      <td>15152.000000</td>\n",
       "    </tr>\n",
       "    <tr>\n",
       "      <th>75%</th>\n",
       "      <td>12.000000</td>\n",
       "      <td>3.750000</td>\n",
       "      <td>16791.000000</td>\n",
       "    </tr>\n",
       "    <tr>\n",
       "      <th>max</th>\n",
       "      <td>80995.000000</td>\n",
       "      <td>38970.000000</td>\n",
       "      <td>18287.000000</td>\n",
       "    </tr>\n",
       "  </tbody>\n",
       "</table>\n",
       "</div>"
      ],
      "text/plain": [
       "            Quantity      UnitPrice     CustomerID\n",
       "count  406829.000000  406829.000000  406829.000000\n",
       "mean       12.061303       3.460471   15287.690570\n",
       "std       248.693370      69.315162    1713.600303\n",
       "min    -80995.000000       0.000000   12346.000000\n",
       "25%         2.000000       1.250000   13953.000000\n",
       "50%         5.000000       1.950000   15152.000000\n",
       "75%        12.000000       3.750000   16791.000000\n",
       "max     80995.000000   38970.000000   18287.000000"
      ]
     },
     "execution_count": 7,
     "metadata": {},
     "output_type": "execute_result"
    }
   ],
   "source": [
    "data.describe()"
   ]
  },
  {
   "cell_type": "code",
   "execution_count": 8,
   "id": "706b2da9",
   "metadata": {
    "scrolled": true
   },
   "outputs": [
    {
     "name": "stdout",
     "output_type": "stream",
     "text": [
      "<class 'pandas.core.frame.DataFrame'>\n",
      "Int64Index: 397924 entries, 0 to 541908\n",
      "Data columns (total 8 columns):\n",
      " #   Column       Non-Null Count   Dtype         \n",
      "---  ------       --------------   -----         \n",
      " 0   InvoiceNo    397924 non-null  object        \n",
      " 1   StockCode    397924 non-null  object        \n",
      " 2   Description  397924 non-null  object        \n",
      " 3   Quantity     397924 non-null  int64         \n",
      " 4   InvoiceDate  397924 non-null  datetime64[ns]\n",
      " 5   UnitPrice    397924 non-null  float64       \n",
      " 6   CustomerID   397924 non-null  float64       \n",
      " 7   Country      397924 non-null  object        \n",
      "dtypes: datetime64[ns](1), float64(2), int64(1), object(4)\n",
      "memory usage: 27.3+ MB\n"
     ]
    }
   ],
   "source": [
    "#elimino gli oggetti eliminati dal carrello prima dell'acquisto.\n",
    "data = data[~data['InvoiceNo'].astype(str).str.startswith('C')]\n",
    "data.info()"
   ]
  },
  {
   "cell_type": "markdown",
   "id": "6589bbb3",
   "metadata": {},
   "source": [
    "In ultimo, dalla descrizione del dataset si evince che ci sono dei record con valori negativi di quantity ed unit_price(probabilmente si riferiscono a resituzioni/rimborsi), decido di eliminare tali record."
   ]
  },
  {
   "cell_type": "code",
   "execution_count": 9,
   "id": "13676813",
   "metadata": {},
   "outputs": [
    {
     "name": "stdout",
     "output_type": "stream",
     "text": [
      "<class 'pandas.core.frame.DataFrame'>\n",
      "Int64Index: 397884 entries, 0 to 541908\n",
      "Data columns (total 8 columns):\n",
      " #   Column       Non-Null Count   Dtype         \n",
      "---  ------       --------------   -----         \n",
      " 0   InvoiceNo    397884 non-null  object        \n",
      " 1   StockCode    397884 non-null  object        \n",
      " 2   Description  397884 non-null  object        \n",
      " 3   Quantity     397884 non-null  int64         \n",
      " 4   InvoiceDate  397884 non-null  datetime64[ns]\n",
      " 5   UnitPrice    397884 non-null  float64       \n",
      " 6   CustomerID   397884 non-null  float64       \n",
      " 7   Country      397884 non-null  object        \n",
      "dtypes: datetime64[ns](1), float64(2), int64(1), object(4)\n",
      "memory usage: 27.3+ MB\n"
     ]
    }
   ],
   "source": [
    "data = data[(data['Quantity']>0) & (data['UnitPrice']>0)]\n",
    "data.info()"
   ]
  },
  {
   "cell_type": "markdown",
   "id": "b82dfdc2",
   "metadata": {},
   "source": [
    "### ELIMINAZIONE OUTLIERS"
   ]
  },
  {
   "cell_type": "markdown",
   "id": "060205a5",
   "metadata": {},
   "source": [
    "### Quantity"
   ]
  },
  {
   "cell_type": "markdown",
   "id": "faea1720",
   "metadata": {},
   "source": [
    "Per quanto riguarda la feature **Quantity** possiamo individuare facilmente dal boxplot la presenza di due punti che si discostano in maniera esagerata dalla media, si può quindi definire un criterio intuitivo di eliminazione degli outliers (>10.000) piuttosto che applicare funzioni di calcolo alla distribuzione.\n",
    "- L'eventuale ulteriore eliminazione di outliers è rimandata ai singoli task (clustering e association-analysis)"
   ]
  },
  {
   "cell_type": "code",
   "execution_count": 10,
   "id": "051a04ca",
   "metadata": {},
   "outputs": [
    {
     "data": {
      "text/plain": [
       "<AxesSubplot:>"
      ]
     },
     "execution_count": 10,
     "metadata": {},
     "output_type": "execute_result"
    },
    {
     "data": {
      "image/png": "[encoded data removed]",
      "text/plain": [
       "<Figure size 432x288 with 1 Axes>"
      ]
     },
     "metadata": {
      "needs_background": "light"
     },
     "output_type": "display_data"
    }
   ],
   "source": [
    "data.boxplot(column = 'Quantity')"
   ]
  },
  {
   "cell_type": "code",
   "execution_count": 11,
   "id": "70c6568b",
   "metadata": {},
   "outputs": [
    {
     "data": {
      "text/html": [
       "<div>\n",
       "<style scoped>\n",
       "    .dataframe tbody tr th:only-of-type {\n",
       "        vertical-align: middle;\n",
       "    }\n",
       "\n",
       "    .dataframe tbody tr th {\n",
       "        vertical-align: top;\n",
       "    }\n",
       "\n",
       "    .dataframe thead th {\n",
       "        text-align: right;\n",
       "    }\n",
       "</style>\n",
       "<table border=\"1\" class=\"dataframe\">\n",
       "  <thead>\n",
       "    <tr style=\"text-align: right;\">\n",
       "      <th></th>\n",
       "      <th>InvoiceNo</th>\n",
       "      <th>StockCode</th>\n",
       "      <th>Description</th>\n",
       "      <th>Quantity</th>\n",
       "      <th>InvoiceDate</th>\n",
       "      <th>UnitPrice</th>\n",
       "      <th>CustomerID</th>\n",
       "      <th>Country</th>\n",
       "    </tr>\n",
       "  </thead>\n",
       "  <tbody>\n",
       "    <tr>\n",
       "      <th>61619</th>\n",
       "      <td>541431</td>\n",
       "      <td>23166</td>\n",
       "      <td>MEDIUM CERAMIC TOP STORAGE JAR</td>\n",
       "      <td>74215</td>\n",
       "      <td>2011-01-18 10:01:00</td>\n",
       "      <td>1.04</td>\n",
       "      <td>12346.0</td>\n",
       "      <td>United Kingdom</td>\n",
       "    </tr>\n",
       "    <tr>\n",
       "      <th>540421</th>\n",
       "      <td>581483</td>\n",
       "      <td>23843</td>\n",
       "      <td>PAPER CRAFT , LITTLE BIRDIE</td>\n",
       "      <td>80995</td>\n",
       "      <td>2011-12-09 09:15:00</td>\n",
       "      <td>2.08</td>\n",
       "      <td>16446.0</td>\n",
       "      <td>United Kingdom</td>\n",
       "    </tr>\n",
       "  </tbody>\n",
       "</table>\n",
       "</div>"
      ],
      "text/plain": [
       "       InvoiceNo StockCode                     Description  Quantity  \\\n",
       "61619     541431     23166  MEDIUM CERAMIC TOP STORAGE JAR     74215   \n",
       "540421    581483     23843     PAPER CRAFT , LITTLE BIRDIE     80995   \n",
       "\n",
       "               InvoiceDate  UnitPrice  CustomerID         Country  \n",
       "61619  2011-01-18 10:01:00       1.04     12346.0  United Kingdom  \n",
       "540421 2011-12-09 09:15:00       2.08     16446.0  United Kingdom  "
      ]
     },
     "execution_count": 11,
     "metadata": {},
     "output_type": "execute_result"
    }
   ],
   "source": [
    "#elimino esclusivamente i due valori piu alti\n",
    "data[data['Quantity'] > 10000]"
   ]
  },
  {
   "cell_type": "code",
   "execution_count": 12,
   "id": "5526386c",
   "metadata": {},
   "outputs": [],
   "source": [
    "data = data[data['Quantity'] < 10000]"
   ]
  },
  {
   "cell_type": "code",
   "execution_count": 13,
   "id": "0e98a14a",
   "metadata": {},
   "outputs": [
    {
     "data": {
      "text/plain": [
       "<AxesSubplot:>"
      ]
     },
     "execution_count": 13,
     "metadata": {},
     "output_type": "execute_result"
    },
    {
     "data": {
      "image/png": "[encoded data removed]",
      "text/plain": [
       "<Figure size 432x288 with 1 Axes>"
      ]
     },
     "metadata": {
      "needs_background": "light"
     },
     "output_type": "display_data"
    }
   ],
   "source": [
    "data.boxplot(column = 'Quantity')"
   ]
  },
  {
   "cell_type": "markdown",
   "id": "b931223b",
   "metadata": {},
   "source": [
    "### UnitPrice"
   ]
  },
  {
   "cell_type": "code",
   "execution_count": 14,
   "id": "f2236619",
   "metadata": {},
   "outputs": [
    {
     "data": {
      "text/plain": [
       "<AxesSubplot:>"
      ]
     },
     "execution_count": 14,
     "metadata": {},
     "output_type": "execute_result"
    },
    {
     "data": {
      "image/png": "[encoded data removed]",
      "text/plain": [
       "<Figure size 432x288 with 1 Axes>"
      ]
     },
     "metadata": {
      "needs_background": "light"
     },
     "output_type": "display_data"
    }
   ],
   "source": [
    "data.boxplot(column = 'UnitPrice')"
   ]
  },
  {
   "cell_type": "code",
   "execution_count": 15,
   "id": "6262ae7b",
   "metadata": {},
   "outputs": [
    {
     "data": {
      "text/html": [
       "<div>\n",
       "<style scoped>\n",
       "    .dataframe tbody tr th:only-of-type {\n",
       "        vertical-align: middle;\n",
       "    }\n",
       "\n",
       "    .dataframe tbody tr th {\n",
       "        vertical-align: top;\n",
       "    }\n",
       "\n",
       "    .dataframe thead th {\n",
       "        text-align: right;\n",
       "    }\n",
       "</style>\n",
       "<table border=\"1\" class=\"dataframe\">\n",
       "  <thead>\n",
       "    <tr style=\"text-align: right;\">\n",
       "      <th></th>\n",
       "      <th>InvoiceNo</th>\n",
       "      <th>StockCode</th>\n",
       "      <th>Description</th>\n",
       "      <th>Quantity</th>\n",
       "      <th>InvoiceDate</th>\n",
       "      <th>UnitPrice</th>\n",
       "      <th>CustomerID</th>\n",
       "      <th>Country</th>\n",
       "    </tr>\n",
       "  </thead>\n",
       "  <tbody>\n",
       "    <tr>\n",
       "      <th>173382</th>\n",
       "      <td>551697</td>\n",
       "      <td>POST</td>\n",
       "      <td>POSTAGE</td>\n",
       "      <td>1</td>\n",
       "      <td>2011-05-03 13:46:00</td>\n",
       "      <td>8142.75</td>\n",
       "      <td>16029.0</td>\n",
       "      <td>United Kingdom</td>\n",
       "    </tr>\n",
       "  </tbody>\n",
       "</table>\n",
       "</div>"
      ],
      "text/plain": [
       "       InvoiceNo StockCode Description  Quantity         InvoiceDate  \\\n",
       "173382    551697      POST     POSTAGE         1 2011-05-03 13:46:00   \n",
       "\n",
       "        UnitPrice  CustomerID         Country  \n",
       "173382    8142.75     16029.0  United Kingdom  "
      ]
     },
     "execution_count": 15,
     "metadata": {},
     "output_type": "execute_result"
    }
   ],
   "source": [
    "data[data['UnitPrice']>5000]"
   ]
  },
  {
   "cell_type": "markdown",
   "id": "cfed1416",
   "metadata": {},
   "source": [
    "Decido di eliminare la riga precedente, in quanto non si riesce a comprenderne la tipologia."
   ]
  },
  {
   "cell_type": "code",
   "execution_count": 16,
   "id": "0bf7c404",
   "metadata": {},
   "outputs": [],
   "source": [
    "data = data[data['UnitPrice']<5000]"
   ]
  },
  {
   "cell_type": "code",
   "execution_count": 17,
   "id": "cc3c98c9",
   "metadata": {},
   "outputs": [
    {
     "data": {
      "text/plain": [
       "<AxesSubplot:>"
      ]
     },
     "execution_count": 17,
     "metadata": {},
     "output_type": "execute_result"
    },
    {
     "data": {
      "image/png": "[encoded data removed]",
      "text/plain": [
       "<Figure size 432x288 with 1 Axes>"
      ]
     },
     "metadata": {
      "needs_background": "light"
     },
     "output_type": "display_data"
    }
   ],
   "source": [
    "data.boxplot(column = 'UnitPrice')"
   ]
  },
  {
   "cell_type": "code",
   "execution_count": 18,
   "id": "52526736",
   "metadata": {},
   "outputs": [
    {
     "name": "stdout",
     "output_type": "stream",
     "text": [
      "<class 'pandas.core.frame.DataFrame'>\n",
      "Int64Index: 397881 entries, 0 to 541908\n",
      "Data columns (total 8 columns):\n",
      " #   Column       Non-Null Count   Dtype         \n",
      "---  ------       --------------   -----         \n",
      " 0   InvoiceNo    397881 non-null  object        \n",
      " 1   StockCode    397881 non-null  object        \n",
      " 2   Description  397881 non-null  object        \n",
      " 3   Quantity     397881 non-null  int64         \n",
      " 4   InvoiceDate  397881 non-null  datetime64[ns]\n",
      " 5   UnitPrice    397881 non-null  float64       \n",
      " 6   CustomerID   397881 non-null  float64       \n",
      " 7   Country      397881 non-null  object        \n",
      "dtypes: datetime64[ns](1), float64(2), int64(1), object(4)\n",
      "memory usage: 27.3+ MB\n"
     ]
    }
   ],
   "source": [
    "data.info()"
   ]
  },
  {
   "cell_type": "markdown",
   "id": "e490847a",
   "metadata": {},
   "source": [
    "### Il dataset ottenuto è costituito da 397.881 righe"
   ]
  },
  {
   "cell_type": "markdown",
   "id": "43cb522d",
   "metadata": {},
   "source": [
    "# DESCRIZIONE DEGLI ATTRIBUTI"
   ]
  },
  {
   "cell_type": "markdown",
   "id": "57ee9025",
   "metadata": {},
   "source": [
    "Le features Quantity ed UnitPrices sono state descritte nella fase precedente, ci concentriamo quindi sugli altri attributi del dataset."
   ]
  },
  {
   "cell_type": "markdown",
   "id": "29997cba",
   "metadata": {},
   "source": [
    "### Country"
   ]
  },
  {
   "cell_type": "markdown",
   "id": "c8363903",
   "metadata": {},
   "source": [
    "I clienti dello store provengono da ***37 diversi paesi***, anche se circa il 90% di essi proviene dal Regno Unito.\n",
    "Dato che la provenienza dei clienti potrebbe influire sul loro comportamento di acquisto, verranno selezionati, per l'analisi RFM (Notebook n.2), esclusivamente gli acquisti afferenti a clienti provenienti dal Regno Unito."
   ]
  },
  {
   "cell_type": "code",
   "execution_count": 19,
   "id": "eda56d6c",
   "metadata": {},
   "outputs": [
    {
     "data": {
      "text/plain": [
       "37"
      ]
     },
     "execution_count": 19,
     "metadata": {},
     "output_type": "execute_result"
    }
   ],
   "source": [
    "data['Country'].nunique()"
   ]
  },
  {
   "cell_type": "code",
   "execution_count": 20,
   "id": "a4e33e03",
   "metadata": {},
   "outputs": [],
   "source": [
    "df_c = data.drop_duplicates(subset=['CustomerID'])\n",
    "count = df_c['Country'].value_counts(normalize=True)"
   ]
  },
  {
   "cell_type": "code",
   "execution_count": 21,
   "id": "e8ecf0f1",
   "metadata": {},
   "outputs": [
    {
     "data": {
      "text/plain": [
       "United Kingdom          0.903620\n",
       "Germany                 0.021674\n",
       "France                  0.020060\n",
       "Spain                   0.006456\n",
       "Belgium                 0.005534\n",
       "Switzerland             0.004611\n",
       "Portugal                0.004381\n",
       "Italy                   0.003228\n",
       "Finland                 0.002767\n",
       "Norway                  0.002306\n",
       "Netherlands             0.002075\n",
       "Austria                 0.002075\n",
       "Australia               0.002075\n",
       "Channel Islands         0.002075\n",
       "Denmark                 0.001845\n",
       "Sweden                  0.001845\n",
       "Japan                   0.001845\n",
       "Cyprus                  0.001614\n",
       "Poland                  0.001383\n",
       "Greece                  0.000922\n",
       "USA                     0.000922\n",
       "Canada                  0.000922\n",
       "Unspecified             0.000922\n",
       "EIRE                    0.000692\n",
       "Israel                  0.000692\n",
       "Malta                   0.000461\n",
       "Bahrain                 0.000461\n",
       "United Arab Emirates    0.000461\n",
       "Iceland                 0.000231\n",
       "Brazil                  0.000231\n",
       "European Community      0.000231\n",
       "Saudi Arabia            0.000231\n",
       "Czech Republic          0.000231\n",
       "Lithuania               0.000231\n",
       "Lebanon                 0.000231\n",
       "Singapore               0.000231\n",
       "RSA                     0.000231\n",
       "Name: Country, dtype: float64"
      ]
     },
     "execution_count": 21,
     "metadata": {},
     "output_type": "execute_result"
    }
   ],
   "source": [
    "count"
   ]
  },
  {
   "cell_type": "code",
   "execution_count": 22,
   "id": "43b2c839",
   "metadata": {},
   "outputs": [
    {
     "data": {
      "image/png": "[encoded data removed]",
      "text/plain": [
       "<Figure size 864x720 with 1 Axes>"
      ]
     },
     "metadata": {
      "needs_background": "light"
     },
     "output_type": "display_data"
    }
   ],
   "source": [
    "plt.rcParams['figure.figsize'] = (12, 10)\n",
    "a = count.head(20)\n",
    "sns.barplot(x = a.values, y = a.index, palette = 'PuBuGn_d')\n",
    "plt.title('Top 20 stati con più alto numero di clienti', fontsize = 20)\n",
    "plt.xlabel('Numero di clienti')\n",
    "plt.ylabel('Nazionalità')\n",
    "plt.show()"
   ]
  },
  {
   "cell_type": "code",
   "execution_count": 23,
   "id": "7fbd7cf9",
   "metadata": {},
   "outputs": [
    {
     "data": {
      "image/png": "[encoded data removed]",
      "text/plain": [
       "<Figure size 864x720 with 1 Axes>"
      ]
     },
     "metadata": {
      "needs_background": "light"
     },
     "output_type": "display_data"
    }
   ],
   "source": [
    "plt.rcParams['figure.figsize'] = (12, 10)\n",
    "a = count.head(21)[1:]\n",
    "sns.barplot(x = a.values, y = a.index, palette = 'PuBuGn_d')\n",
    "plt.title('Top 20 stati con più alto numero di clienti escluso UK', fontsize = 20)\n",
    "plt.xlabel('Numero di clienti')\n",
    "plt.ylabel('Nazionalità')\n",
    "plt.show()"
   ]
  },
  {
   "cell_type": "code",
   "execution_count": 24,
   "id": "0f1e5075",
   "metadata": {},
   "outputs": [
    {
     "data": {
      "image/png": "[encoded data removed]",
      "text/plain": [
       "<Figure size 1080x504 with 1 Axes>"
      ]
     },
     "metadata": {
      "needs_background": "light"
     },
     "output_type": "display_data"
    }
   ],
   "source": [
    "data['Sales'] = data['UnitPrice'] * data['Quantity']\n",
    "data['Sales'].groupby(data['Country']).agg('sum').sort_values(ascending = False).head(21)[1:]\n",
    "                .plot.bar(figsize = (15, 7))\n",
    "#sns.barplot(x = b.values, y = b.index, palette = 'magma')\n",
    "plt.title('Top 20 paesi con maggiori vendite escluso UK', fontsize = 20)\n",
    "plt.xlabel('Nazionalità')\n",
    "plt.ylabel('Numero di vendite')\n",
    "plt.show()"
   ]
  },
  {
   "cell_type": "markdown",
   "id": "9d7bdaf4",
   "metadata": {},
   "source": [
    "### StockCode"
   ]
  },
  {
   "cell_type": "markdown",
   "id": "48e7732c",
   "metadata": {},
   "source": [
    "Il numero di prodotti presenti nel dataset è ***3.664***. Dalla distribuzione si evince la presenza di alcuni prodotti presenti in molti acquisti (il prodotto _\"85123A\"_ è presente in 2.035 transazioni su circa 18.000). Questo dato non è influente ai fini dell'analisi RFM ma andrà considerato ai fini dell'analisi di associazione se dovessimo notare una eccessiva presenza, nelle regole, dell'item in questione (_\"WHITE HANGING HEART T-LIGHT HOLDER\"_). "
   ]
  },
  {
   "cell_type": "code",
   "execution_count": 25,
   "id": "eb6ca6d5",
   "metadata": {},
   "outputs": [
    {
     "data": {
      "text/plain": [
       "3664"
      ]
     },
     "execution_count": 25,
     "metadata": {},
     "output_type": "execute_result"
    }
   ],
   "source": [
    "data['StockCode'].nunique()"
   ]
  },
  {
   "cell_type": "code",
   "execution_count": 26,
   "id": "4f171995",
   "metadata": {},
   "outputs": [
    {
     "data": {
      "text/plain": [
       "85123A    2035\n",
       "22423     1723\n",
       "85099B    1618\n",
       "84879     1408\n",
       "47566     1396\n",
       "          ... \n",
       "90036F       1\n",
       "37330        1\n",
       "85031C       1\n",
       "84551        1\n",
       "37461        1\n",
       "Name: StockCode, Length: 3664, dtype: int64"
      ]
     },
     "execution_count": 26,
     "metadata": {},
     "output_type": "execute_result"
    }
   ],
   "source": [
    "data['StockCode'].value_counts()"
   ]
  },
  {
   "cell_type": "code",
   "execution_count": 27,
   "id": "e149044d",
   "metadata": {},
   "outputs": [
    {
     "data": {
      "image/png": "[encoded data removed]",
      "text/plain": [
       "<Figure size 1080x504 with 1 Axes>"
      ]
     },
     "metadata": {
      "needs_background": "light"
     },
     "output_type": "display_data"
    }
   ],
   "source": [
    "data['Description'].value_counts().head(50).plot.bar(figsize = (15, 7))\n",
    "plt.title('Top 50 prodotti venduti', fontsize = 20)\n",
    "plt.xlabel('Nome del prodotto')\n",
    "plt.ylabel('Numero di vendite')\n",
    "plt.show()"
   ]
  },
  {
   "cell_type": "markdown",
   "id": "9c3764a8",
   "metadata": {},
   "source": [
    "### CustomerID"
   ]
  },
  {
   "cell_type": "markdown",
   "id": "780716b9",
   "metadata": {},
   "source": [
    "Il numero di clienti è ***4.337***, di cui 3.919 provenienti dal Regno Unito."
   ]
  },
  {
   "cell_type": "code",
   "execution_count": 28,
   "id": "d96ed7d6",
   "metadata": {},
   "outputs": [
    {
     "data": {
      "text/plain": [
       "4337"
      ]
     },
     "execution_count": 28,
     "metadata": {},
     "output_type": "execute_result"
    }
   ],
   "source": [
    "data['CustomerID'].nunique()"
   ]
  },
  {
   "cell_type": "code",
   "execution_count": 29,
   "id": "5f5986d5",
   "metadata": {},
   "outputs": [
    {
     "data": {
      "text/plain": [
       "3919"
      ]
     },
     "execution_count": 29,
     "metadata": {},
     "output_type": "execute_result"
    }
   ],
   "source": [
    "len(df_c[df_c['Country']=='United Kingdom'])"
   ]
  },
  {
   "cell_type": "markdown",
   "id": "faabcbee",
   "metadata": {},
   "source": [
    "### InvoiceNo"
   ]
  },
  {
   "cell_type": "markdown",
   "id": "aafe125b",
   "metadata": {},
   "source": [
    "In ultimo, ***il dataset contiene 18.529 transazioni***"
   ]
  },
  {
   "cell_type": "code",
   "execution_count": 30,
   "id": "7762f3e0",
   "metadata": {},
   "outputs": [
    {
     "data": {
      "text/plain": [
       "576339    542\n",
       "579196    533\n",
       "580727    529\n",
       "578270    442\n",
       "573576    435\n",
       "         ... \n",
       "556918      1\n",
       "556885      1\n",
       "544170      1\n",
       "556842      1\n",
       "575830      1\n",
       "Name: InvoiceNo, Length: 18529, dtype: int64"
      ]
     },
     "execution_count": 30,
     "metadata": {},
     "output_type": "execute_result"
    }
   ],
   "source": [
    "data['InvoiceNo'].value_counts()"
   ]
  },
  {
   "cell_type": "markdown",
   "id": "d41c7620",
   "metadata": {},
   "source": [
    "### InvoiceDate"
   ]
  },
  {
   "cell_type": "markdown",
   "id": "71b48915",
   "metadata": {},
   "source": [
    "Come già introdotto, l'arco temporale in cui si svolgono gli acquisti inerenti a questo dataset si riferisce ad un periodo di ***373 giorni*** compreso tra il 01/12/2010 ed il 09/12/2012."
   ]
  },
  {
   "cell_type": "code",
   "execution_count": 31,
   "id": "75c3cbdc",
   "metadata": {},
   "outputs": [
    {
     "data": {
      "text/plain": [
       "Timestamp('2010-12-01 08:26:00')"
      ]
     },
     "execution_count": 31,
     "metadata": {},
     "output_type": "execute_result"
    }
   ],
   "source": [
    "data['InvoiceDate'].min()"
   ]
  },
  {
   "cell_type": "code",
   "execution_count": 32,
   "id": "c08fdff8",
   "metadata": {},
   "outputs": [
    {
     "data": {
      "text/plain": [
       "Timestamp('2011-12-09 12:50:00')"
      ]
     },
     "execution_count": 32,
     "metadata": {},
     "output_type": "execute_result"
    }
   ],
   "source": [
    "data['InvoiceDate'].max()"
   ]
  },
  {
   "cell_type": "code",
   "execution_count": 33,
   "id": "cc95503a",
   "metadata": {
    "scrolled": true
   },
   "outputs": [
    {
     "data": {
      "text/plain": [
       "Timedelta('373 days 04:24:00')"
      ]
     },
     "execution_count": 33,
     "metadata": {},
     "output_type": "execute_result"
    }
   ],
   "source": [
    "data['InvoiceDate'].max() - data['InvoiceDate'].min()"
   ]
  },
  {
   "cell_type": "markdown",
   "id": "2d4bff09",
   "metadata": {},
   "source": [
    "### Sales per month"
   ]
  },
  {
   "cell_type": "code",
   "execution_count": 34,
   "id": "405471b9",
   "metadata": {},
   "outputs": [
    {
     "data": {
      "text/html": [
       "<div>\n",
       "<style scoped>\n",
       "    .dataframe tbody tr th:only-of-type {\n",
       "        vertical-align: middle;\n",
       "    }\n",
       "\n",
       "    .dataframe tbody tr th {\n",
       "        vertical-align: top;\n",
       "    }\n",
       "\n",
       "    .dataframe thead th {\n",
       "        text-align: right;\n",
       "    }\n",
       "</style>\n",
       "<table border=\"1\" class=\"dataframe\">\n",
       "  <thead>\n",
       "    <tr style=\"text-align: right;\">\n",
       "      <th></th>\n",
       "      <th>InvoiceNo</th>\n",
       "      <th>StockCode</th>\n",
       "      <th>Description</th>\n",
       "      <th>Quantity</th>\n",
       "      <th>InvoiceDate</th>\n",
       "      <th>UnitPrice</th>\n",
       "      <th>CustomerID</th>\n",
       "      <th>Country</th>\n",
       "      <th>Sales</th>\n",
       "      <th>invoice_value</th>\n",
       "      <th>Year</th>\n",
       "      <th>Month</th>\n",
       "    </tr>\n",
       "  </thead>\n",
       "  <tbody>\n",
       "    <tr>\n",
       "      <th>0</th>\n",
       "      <td>536365</td>\n",
       "      <td>85123A</td>\n",
       "      <td>WHITE HANGING HEART T-LIGHT HOLDER</td>\n",
       "      <td>6</td>\n",
       "      <td>2010-12-01 08:26:00</td>\n",
       "      <td>2.55</td>\n",
       "      <td>17850.0</td>\n",
       "      <td>United Kingdom</td>\n",
       "      <td>15.30</td>\n",
       "      <td>15.30</td>\n",
       "      <td>2010</td>\n",
       "      <td>12</td>\n",
       "    </tr>\n",
       "    <tr>\n",
       "      <th>1</th>\n",
       "      <td>536365</td>\n",
       "      <td>71053</td>\n",
       "      <td>WHITE METAL LANTERN</td>\n",
       "      <td>6</td>\n",
       "      <td>2010-12-01 08:26:00</td>\n",
       "      <td>3.39</td>\n",
       "      <td>17850.0</td>\n",
       "      <td>United Kingdom</td>\n",
       "      <td>20.34</td>\n",
       "      <td>20.34</td>\n",
       "      <td>2010</td>\n",
       "      <td>12</td>\n",
       "    </tr>\n",
       "    <tr>\n",
       "      <th>2</th>\n",
       "      <td>536365</td>\n",
       "      <td>84406B</td>\n",
       "      <td>CREAM CUPID HEARTS COAT HANGER</td>\n",
       "      <td>8</td>\n",
       "      <td>2010-12-01 08:26:00</td>\n",
       "      <td>2.75</td>\n",
       "      <td>17850.0</td>\n",
       "      <td>United Kingdom</td>\n",
       "      <td>22.00</td>\n",
       "      <td>22.00</td>\n",
       "      <td>2010</td>\n",
       "      <td>12</td>\n",
       "    </tr>\n",
       "    <tr>\n",
       "      <th>3</th>\n",
       "      <td>536365</td>\n",
       "      <td>84029G</td>\n",
       "      <td>KNITTED UNION FLAG HOT WATER BOTTLE</td>\n",
       "      <td>6</td>\n",
       "      <td>2010-12-01 08:26:00</td>\n",
       "      <td>3.39</td>\n",
       "      <td>17850.0</td>\n",
       "      <td>United Kingdom</td>\n",
       "      <td>20.34</td>\n",
       "      <td>20.34</td>\n",
       "      <td>2010</td>\n",
       "      <td>12</td>\n",
       "    </tr>\n",
       "    <tr>\n",
       "      <th>4</th>\n",
       "      <td>536365</td>\n",
       "      <td>84029E</td>\n",
       "      <td>RED WOOLLY HOTTIE WHITE HEART.</td>\n",
       "      <td>6</td>\n",
       "      <td>2010-12-01 08:26:00</td>\n",
       "      <td>3.39</td>\n",
       "      <td>17850.0</td>\n",
       "      <td>United Kingdom</td>\n",
       "      <td>20.34</td>\n",
       "      <td>20.34</td>\n",
       "      <td>2010</td>\n",
       "      <td>12</td>\n",
       "    </tr>\n",
       "  </tbody>\n",
       "</table>\n",
       "</div>"
      ],
      "text/plain": [
       "  InvoiceNo StockCode                          Description  Quantity  \\\n",
       "0    536365    85123A   WHITE HANGING HEART T-LIGHT HOLDER         6   \n",
       "1    536365     71053                  WHITE METAL LANTERN         6   \n",
       "2    536365    84406B       CREAM CUPID HEARTS COAT HANGER         8   \n",
       "3    536365    84029G  KNITTED UNION FLAG HOT WATER BOTTLE         6   \n",
       "4    536365    84029E       RED WOOLLY HOTTIE WHITE HEART.         6   \n",
       "\n",
       "          InvoiceDate  UnitPrice  CustomerID         Country  Sales  \\\n",
       "0 2010-12-01 08:26:00       2.55     17850.0  United Kingdom  15.30   \n",
       "1 2010-12-01 08:26:00       3.39     17850.0  United Kingdom  20.34   \n",
       "2 2010-12-01 08:26:00       2.75     17850.0  United Kingdom  22.00   \n",
       "3 2010-12-01 08:26:00       3.39     17850.0  United Kingdom  20.34   \n",
       "4 2010-12-01 08:26:00       3.39     17850.0  United Kingdom  20.34   \n",
       "\n",
       "   invoice_value  Year  Month  \n",
       "0          15.30  2010     12  \n",
       "1          20.34  2010     12  \n",
       "2          22.00  2010     12  \n",
       "3          20.34  2010     12  \n",
       "4          20.34  2010     12  "
      ]
     },
     "execution_count": 34,
     "metadata": {},
     "output_type": "execute_result"
    }
   ],
   "source": [
    "data2 = data.copy()\n",
    "data2['invoice_value'] = data2['Quantity']*data2['UnitPrice']\n",
    "data2['Year'] = pd.DatetimeIndex(data2['InvoiceDate']).year\n",
    "data2['Month'] = pd.DatetimeIndex(data2['InvoiceDate']).month\n",
    "data2.head()"
   ]
  },
  {
   "cell_type": "code",
   "execution_count": 35,
   "id": "389a3662",
   "metadata": {},
   "outputs": [],
   "source": [
    "monthly = data2.groupby(['Year', 'Month'])['invoice_value'].sum()\n",
    "monthly = monthly.to_frame()\n",
    "monthly = monthly.set_index(pd.Index(monthly.index))"
   ]
  },
  {
   "cell_type": "code",
   "execution_count": 36,
   "id": "fae0e376",
   "metadata": {},
   "outputs": [
    {
     "data": {
      "image/png": "[encoded data removed]",
      "text/plain": [
       "<Figure size 864x720 with 1 Axes>"
      ]
     },
     "metadata": {
      "needs_background": "light"
     },
     "output_type": "display_data"
    }
   ],
   "source": [
    "#Plotting the monthly revenue\n",
    "h = sns.barplot(x = 'invoice_value', y = monthly.index, data = monthly)\n",
    "h.set_xlabel('Guadagno mensile', size = 12)\n",
    "h.set_ylabel('Mese e anno', size = 12)\n",
    "h.set_title('Vendite per mese', size = 14, y = 1.05)\n",
    "plt.show()"
   ]
  },
  {
   "cell_type": "markdown",
   "id": "57090a40",
   "metadata": {},
   "source": [
    "### DESCRIZIONE E SALVATAGGIO DEL DATASET PULITO"
   ]
  },
  {
   "cell_type": "code",
   "execution_count": 37,
   "id": "897fb1b6",
   "metadata": {},
   "outputs": [
    {
     "data": {
      "text/html": [
       "<div>\n",
       "<style scoped>\n",
       "    .dataframe tbody tr th:only-of-type {\n",
       "        vertical-align: middle;\n",
       "    }\n",
       "\n",
       "    .dataframe tbody tr th {\n",
       "        vertical-align: top;\n",
       "    }\n",
       "\n",
       "    .dataframe thead th {\n",
       "        text-align: right;\n",
       "    }\n",
       "</style>\n",
       "<table border=\"1\" class=\"dataframe\">\n",
       "  <thead>\n",
       "    <tr style=\"text-align: right;\">\n",
       "      <th></th>\n",
       "      <th>Quantity</th>\n",
       "      <th>UnitPrice</th>\n",
       "      <th>CustomerID</th>\n",
       "      <th>Sales</th>\n",
       "    </tr>\n",
       "  </thead>\n",
       "  <tbody>\n",
       "    <tr>\n",
       "      <th>count</th>\n",
       "      <td>397881.000000</td>\n",
       "      <td>397881.000000</td>\n",
       "      <td>397881.000000</td>\n",
       "      <td>397881.000000</td>\n",
       "    </tr>\n",
       "    <tr>\n",
       "      <th>mean</th>\n",
       "      <td>12.598242</td>\n",
       "      <td>3.096038</td>\n",
       "      <td>15294.426122</td>\n",
       "      <td>21.759300</td>\n",
       "    </tr>\n",
       "    <tr>\n",
       "      <th>std</th>\n",
       "      <td>42.886053</td>\n",
       "      <td>17.938862</td>\n",
       "      <td>1713.140274</td>\n",
       "      <td>95.296596</td>\n",
       "    </tr>\n",
       "    <tr>\n",
       "      <th>min</th>\n",
       "      <td>1.000000</td>\n",
       "      <td>0.001000</td>\n",
       "      <td>12347.000000</td>\n",
       "      <td>0.001000</td>\n",
       "    </tr>\n",
       "    <tr>\n",
       "      <th>25%</th>\n",
       "      <td>2.000000</td>\n",
       "      <td>1.250000</td>\n",
       "      <td>13969.000000</td>\n",
       "      <td>4.680000</td>\n",
       "    </tr>\n",
       "    <tr>\n",
       "      <th>50%</th>\n",
       "      <td>6.000000</td>\n",
       "      <td>1.950000</td>\n",
       "      <td>15159.000000</td>\n",
       "      <td>11.800000</td>\n",
       "    </tr>\n",
       "    <tr>\n",
       "      <th>75%</th>\n",
       "      <td>12.000000</td>\n",
       "      <td>3.750000</td>\n",
       "      <td>16795.000000</td>\n",
       "      <td>19.800000</td>\n",
       "    </tr>\n",
       "    <tr>\n",
       "      <th>max</th>\n",
       "      <td>4800.000000</td>\n",
       "      <td>4161.060000</td>\n",
       "      <td>18287.000000</td>\n",
       "      <td>38970.000000</td>\n",
       "    </tr>\n",
       "  </tbody>\n",
       "</table>\n",
       "</div>"
      ],
      "text/plain": [
       "            Quantity      UnitPrice     CustomerID          Sales\n",
       "count  397881.000000  397881.000000  397881.000000  397881.000000\n",
       "mean       12.598242       3.096038   15294.426122      21.759300\n",
       "std        42.886053      17.938862    1713.140274      95.296596\n",
       "min         1.000000       0.001000   12347.000000       0.001000\n",
       "25%         2.000000       1.250000   13969.000000       4.680000\n",
       "50%         6.000000       1.950000   15159.000000      11.800000\n",
       "75%        12.000000       3.750000   16795.000000      19.800000\n",
       "max      4800.000000    4161.060000   18287.000000   38970.000000"
      ]
     },
     "execution_count": 37,
     "metadata": {},
     "output_type": "execute_result"
    }
   ],
   "source": [
    "data.describe()"
   ]
  },
  {
   "cell_type": "code",
   "execution_count": 38,
   "id": "6f04823d",
   "metadata": {},
   "outputs": [
    {
     "data": {
      "text/html": [
       "<div>\n",
       "<style scoped>\n",
       "    .dataframe tbody tr th:only-of-type {\n",
       "        vertical-align: middle;\n",
       "    }\n",
       "\n",
       "    .dataframe tbody tr th {\n",
       "        vertical-align: top;\n",
       "    }\n",
       "\n",
       "    .dataframe thead th {\n",
       "        text-align: right;\n",
       "    }\n",
       "</style>\n",
       "<table border=\"1\" class=\"dataframe\">\n",
       "  <thead>\n",
       "    <tr style=\"text-align: right;\">\n",
       "      <th></th>\n",
       "      <th>InvoiceNo</th>\n",
       "      <th>StockCode</th>\n",
       "      <th>Description</th>\n",
       "      <th>InvoiceDate</th>\n",
       "      <th>Country</th>\n",
       "    </tr>\n",
       "  </thead>\n",
       "  <tbody>\n",
       "    <tr>\n",
       "      <th>count</th>\n",
       "      <td>397881.0</td>\n",
       "      <td>397881</td>\n",
       "      <td>397881</td>\n",
       "      <td>397881</td>\n",
       "      <td>397881</td>\n",
       "    </tr>\n",
       "    <tr>\n",
       "      <th>unique</th>\n",
       "      <td>18529.0</td>\n",
       "      <td>3664</td>\n",
       "      <td>3876</td>\n",
       "      <td>NaN</td>\n",
       "      <td>37</td>\n",
       "    </tr>\n",
       "    <tr>\n",
       "      <th>top</th>\n",
       "      <td>576339.0</td>\n",
       "      <td>85123A</td>\n",
       "      <td>WHITE HANGING HEART T-LIGHT HOLDER</td>\n",
       "      <td>NaN</td>\n",
       "      <td>United Kingdom</td>\n",
       "    </tr>\n",
       "    <tr>\n",
       "      <th>freq</th>\n",
       "      <td>542.0</td>\n",
       "      <td>2035</td>\n",
       "      <td>2028</td>\n",
       "      <td>NaN</td>\n",
       "      <td>354318</td>\n",
       "    </tr>\n",
       "    <tr>\n",
       "      <th>mean</th>\n",
       "      <td>NaN</td>\n",
       "      <td>NaN</td>\n",
       "      <td>NaN</td>\n",
       "      <td>2011-07-10 23:41:43.181554176</td>\n",
       "      <td>NaN</td>\n",
       "    </tr>\n",
       "    <tr>\n",
       "      <th>min</th>\n",
       "      <td>NaN</td>\n",
       "      <td>NaN</td>\n",
       "      <td>NaN</td>\n",
       "      <td>2010-12-01 08:26:00</td>\n",
       "      <td>NaN</td>\n",
       "    </tr>\n",
       "    <tr>\n",
       "      <th>25%</th>\n",
       "      <td>NaN</td>\n",
       "      <td>NaN</td>\n",
       "      <td>NaN</td>\n",
       "      <td>2011-04-07 11:12:00</td>\n",
       "      <td>NaN</td>\n",
       "    </tr>\n",
       "    <tr>\n",
       "      <th>50%</th>\n",
       "      <td>NaN</td>\n",
       "      <td>NaN</td>\n",
       "      <td>NaN</td>\n",
       "      <td>2011-07-31 14:39:00</td>\n",
       "      <td>NaN</td>\n",
       "    </tr>\n",
       "    <tr>\n",
       "      <th>75%</th>\n",
       "      <td>NaN</td>\n",
       "      <td>NaN</td>\n",
       "      <td>NaN</td>\n",
       "      <td>2011-10-20 14:33:00</td>\n",
       "      <td>NaN</td>\n",
       "    </tr>\n",
       "    <tr>\n",
       "      <th>max</th>\n",
       "      <td>NaN</td>\n",
       "      <td>NaN</td>\n",
       "      <td>NaN</td>\n",
       "      <td>2011-12-09 12:50:00</td>\n",
       "      <td>NaN</td>\n",
       "    </tr>\n",
       "  </tbody>\n",
       "</table>\n",
       "</div>"
      ],
      "text/plain": [
       "        InvoiceNo StockCode                         Description  \\\n",
       "count    397881.0    397881                              397881   \n",
       "unique    18529.0      3664                                3876   \n",
       "top      576339.0    85123A  WHITE HANGING HEART T-LIGHT HOLDER   \n",
       "freq        542.0      2035                                2028   \n",
       "mean          NaN       NaN                                 NaN   \n",
       "min           NaN       NaN                                 NaN   \n",
       "25%           NaN       NaN                                 NaN   \n",
       "50%           NaN       NaN                                 NaN   \n",
       "75%           NaN       NaN                                 NaN   \n",
       "max           NaN       NaN                                 NaN   \n",
       "\n",
       "                          InvoiceDate         Country  \n",
       "count                          397881          397881  \n",
       "unique                            NaN              37  \n",
       "top                               NaN  United Kingdom  \n",
       "freq                              NaN          354318  \n",
       "mean    2011-07-10 23:41:43.181554176             NaN  \n",
       "min               2010-12-01 08:26:00             NaN  \n",
       "25%               2011-04-07 11:12:00             NaN  \n",
       "50%               2011-07-31 14:39:00             NaN  \n",
       "75%               2011-10-20 14:33:00             NaN  \n",
       "max               2011-12-09 12:50:00             NaN  "
      ]
     },
     "execution_count": 38,
     "metadata": {},
     "output_type": "execute_result"
    }
   ],
   "source": [
    "data.describe(exclude='number', datetime_is_numeric=True)"
   ]
  },
  {
   "cell_type": "code",
   "execution_count": 39,
   "id": "dffd553b",
   "metadata": {},
   "outputs": [],
   "source": [
    "#Salvataggio del dataset pulito\n",
    "data.to_csv('cleaned_online_retail.csv', index=False)"
   ]
  }
 ],
 "metadata": {
  "kernelspec": {
   "display_name": "Python 3 (ipykernel)",
   "language": "python",
   "name": "python3"
  },
  "language_info": {
   "codemirror_mode": {
    "name": "ipython",
    "version": 3
   },
   "file_extension": ".py",
   "mimetype": "text/x-python",
   "name": "python",
   "nbconvert_exporter": "python",
   "pygments_lexer": "ipython3",
   "version": "3.8.2"
  }
 },
 "nbformat": 4,
 "nbformat_minor": 5
}
