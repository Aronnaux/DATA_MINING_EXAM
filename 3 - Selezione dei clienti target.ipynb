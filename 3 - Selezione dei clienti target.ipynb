{
 "cells": [
  {
   "cell_type": "markdown",
   "id": "0bae12b3",
   "metadata": {},
   "source": [
    "# 3 - Selezione dei clienti target"
   ]
  },
  {
   "cell_type": "markdown",
   "id": "5bfa6a5d",
   "metadata": {},
   "source": [
    "Dal dataset che rappresenta i valori RFM per i Best Customers costruisco il dataset completo di attributi inerente ai clienti selezionati. Il nostro target è rappresentato dai clienti con un alto valore di monetary ed una elevata propensione ad acquistare grandi stock di prodotti a prezzi scontati. Al fine di ricavare la percentuale di sconto per l'acquisto di un prodotto utilizzo la differenza in percentuale rispetto alla media (il valore quindi sarà positivo per acquisti di un prodotto ad un prezzo inferiore alla media, negativo altrimenti)."
   ]
  },
  {
   "cell_type": "code",
   "execution_count": 1,
   "id": "af0a6327",
   "metadata": {},
   "outputs": [],
   "source": [
    "import pandas as pd\n",
    "import seaborn as sns\n",
    "import matplotlib.pyplot as plt"
   ]
  },
  {
   "cell_type": "code",
   "execution_count": 2,
   "id": "9e467790",
   "metadata": {},
   "outputs": [],
   "source": [
    "best_cust = pd.read_csv('best_customers.csv')"
   ]
  },
  {
   "cell_type": "code",
   "execution_count": 3,
   "id": "4dac25c8",
   "metadata": {},
   "outputs": [
    {
     "name": "stdout",
     "output_type": "stream",
     "text": [
      "<class 'pandas.core.frame.DataFrame'>\n",
      "RangeIndex: 550 entries, 0 to 549\n",
      "Data columns (total 5 columns):\n",
      " #   Column      Non-Null Count  Dtype  \n",
      "---  ------      --------------  -----  \n",
      " 0   CustomerID  550 non-null    float64\n",
      " 1   Recency     550 non-null    float64\n",
      " 2   Frequency   550 non-null    float64\n",
      " 3   Monetary    550 non-null    float64\n",
      " 4   ClusterID   550 non-null    int64  \n",
      "dtypes: float64(4), int64(1)\n",
      "memory usage: 21.6 KB\n"
     ]
    }
   ],
   "source": [
    "best_cust.info()"
   ]
  },
  {
   "cell_type": "markdown",
   "id": "07e74192",
   "metadata": {},
   "source": [
    "Seleziono, per la seguente analisi, esclusivamente il sottoinsieme dei primi 200 Best Customers, ordinati per l'attributo Monetary. Tali clienti possono anche essere definiti ***Whales***"
   ]
  },
  {
   "cell_type": "code",
   "execution_count": 4,
   "id": "d7ff99ba",
   "metadata": {},
   "outputs": [],
   "source": [
    "best_cust = best_cust.sort_values(by=['Monetary', 'Recency'],\n",
    "                                  ascending=(False, True)).head(200)"
   ]
  },
  {
   "cell_type": "code",
   "execution_count": 5,
   "id": "ed02d277",
   "metadata": {},
   "outputs": [
    {
     "data": {
      "text/html": [
       "<div>\n",
       "<style scoped>\n",
       "    .dataframe tbody tr th:only-of-type {\n",
       "        vertical-align: middle;\n",
       "    }\n",
       "\n",
       "    .dataframe tbody tr th {\n",
       "        vertical-align: top;\n",
       "    }\n",
       "\n",
       "    .dataframe thead th {\n",
       "        text-align: right;\n",
       "    }\n",
       "</style>\n",
       "<table border=\"1\" class=\"dataframe\">\n",
       "  <thead>\n",
       "    <tr style=\"text-align: right;\">\n",
       "      <th></th>\n",
       "      <th>CustomerID</th>\n",
       "      <th>Recency</th>\n",
       "      <th>Frequency</th>\n",
       "      <th>Monetary</th>\n",
       "      <th>ClusterID</th>\n",
       "    </tr>\n",
       "  </thead>\n",
       "  <tbody>\n",
       "    <tr>\n",
       "      <th>159</th>\n",
       "      <td>14309.0</td>\n",
       "      <td>9.0</td>\n",
       "      <td>9.0</td>\n",
       "      <td>228.00</td>\n",
       "      <td>3</td>\n",
       "    </tr>\n",
       "    <tr>\n",
       "      <th>344</th>\n",
       "      <td>16126.0</td>\n",
       "      <td>30.0</td>\n",
       "      <td>4.0</td>\n",
       "      <td>227.40</td>\n",
       "      <td>3</td>\n",
       "    </tr>\n",
       "    <tr>\n",
       "      <th>322</th>\n",
       "      <td>15861.0</td>\n",
       "      <td>13.0</td>\n",
       "      <td>8.0</td>\n",
       "      <td>227.27</td>\n",
       "      <td>3</td>\n",
       "    </tr>\n",
       "    <tr>\n",
       "      <th>485</th>\n",
       "      <td>17567.0</td>\n",
       "      <td>8.0</td>\n",
       "      <td>8.0</td>\n",
       "      <td>226.94</td>\n",
       "      <td>3</td>\n",
       "    </tr>\n",
       "    <tr>\n",
       "      <th>220</th>\n",
       "      <td>14776.0</td>\n",
       "      <td>52.0</td>\n",
       "      <td>11.0</td>\n",
       "      <td>226.38</td>\n",
       "      <td>3</td>\n",
       "    </tr>\n",
       "  </tbody>\n",
       "</table>\n",
       "</div>"
      ],
      "text/plain": [
       "     CustomerID  Recency  Frequency  Monetary  ClusterID\n",
       "159     14309.0      9.0        9.0    228.00          3\n",
       "344     16126.0     30.0        4.0    227.40          3\n",
       "322     15861.0     13.0        8.0    227.27          3\n",
       "485     17567.0      8.0        8.0    226.94          3\n",
       "220     14776.0     52.0       11.0    226.38          3"
      ]
     },
     "execution_count": 5,
     "metadata": {},
     "output_type": "execute_result"
    }
   ],
   "source": [
    "best_cust.head()"
   ]
  },
  {
   "cell_type": "code",
   "execution_count": 6,
   "id": "478ca731",
   "metadata": {},
   "outputs": [
    {
     "name": "stdout",
     "output_type": "stream",
     "text": [
      "<class 'pandas.core.frame.DataFrame'>\n",
      "Int64Index: 200 entries, 159 to 70\n",
      "Data columns (total 5 columns):\n",
      " #   Column      Non-Null Count  Dtype  \n",
      "---  ------      --------------  -----  \n",
      " 0   CustomerID  200 non-null    float64\n",
      " 1   Recency     200 non-null    float64\n",
      " 2   Frequency   200 non-null    float64\n",
      " 3   Monetary    200 non-null    float64\n",
      " 4   ClusterID   200 non-null    int64  \n",
      "dtypes: float64(4), int64(1)\n",
      "memory usage: 9.4 KB\n"
     ]
    }
   ],
   "source": [
    "best_cust.info()"
   ]
  },
  {
   "cell_type": "markdown",
   "id": "0a09bca0",
   "metadata": {},
   "source": [
    "# Innanzitutto individuo i clienti con una più alta tendenza ad acquistare grandi quantità di prodotti a prezzi scontati, preparo quindi il dataset per tale tipo di analisi"
   ]
  },
  {
   "cell_type": "markdown",
   "id": "eeedb265",
   "metadata": {},
   "source": [
    "## 1) Individuo il set di prodotti interessati e snellisco il dataset"
   ]
  },
  {
   "cell_type": "code",
   "execution_count": 11,
   "id": "fae4156f",
   "metadata": {},
   "outputs": [],
   "source": [
    "#per calcolare il prezzo medio utilizzo il dataset contenente \n",
    "#tutte le transazioni\n",
    "df = pd.read_csv(\"cleaned_online_retail.csv\")"
   ]
  },
  {
   "cell_type": "markdown",
   "id": "c389ab24",
   "metadata": {},
   "source": [
    "Al fine di snellire il dataset, escludo i prodotti che non sono mai stati acquistati da nessun best customer"
   ]
  },
  {
   "cell_type": "code",
   "execution_count": 12,
   "id": "45c666bd",
   "metadata": {},
   "outputs": [],
   "source": [
    "stock_codes_of_target_customers = df[df['CustomerID'].isin(\n",
    "    list(best_cust['CustomerID'].unique()))]['StockCode'].unique()"
   ]
  },
  {
   "cell_type": "code",
   "execution_count": 13,
   "id": "5fb945cc",
   "metadata": {},
   "outputs": [
    {
     "name": "stdout",
     "output_type": "stream",
     "text": [
      "2410\n",
      "3664\n"
     ]
    },
    {
     "data": {
      "text/plain": [
       "array(['84879', '22745', '22748', ..., '22069', '21109', '21111'],\n",
       "      dtype=object)"
      ]
     },
     "execution_count": 13,
     "metadata": {},
     "output_type": "execute_result"
    }
   ],
   "source": [
    "print(len(stock_codes_of_target_customers))\n",
    "print(len(df['StockCode'].unique()))\n",
    "stock_codes_of_target_customers"
   ]
  },
  {
   "cell_type": "code",
   "execution_count": 14,
   "id": "f16aac4b",
   "metadata": {},
   "outputs": [
    {
     "name": "stdout",
     "output_type": "stream",
     "text": [
      "<class 'pandas.core.frame.DataFrame'>\n",
      "Int64Index: 378991 entries, 0 to 397880\n",
      "Data columns (total 9 columns):\n",
      " #   Column       Non-Null Count   Dtype  \n",
      "---  ------       --------------   -----  \n",
      " 0   InvoiceNo    378991 non-null  int64  \n",
      " 1   StockCode    378991 non-null  object \n",
      " 2   Description  378991 non-null  object \n",
      " 3   Quantity     378991 non-null  int64  \n",
      " 4   InvoiceDate  378991 non-null  object \n",
      " 5   UnitPrice    378991 non-null  float64\n",
      " 6   CustomerID   378991 non-null  float64\n",
      " 7   Country      378991 non-null  object \n",
      " 8   Sales        378991 non-null  float64\n",
      "dtypes: float64(3), int64(2), object(4)\n",
      "memory usage: 28.9+ MB\n"
     ]
    }
   ],
   "source": [
    "cut_df = df[df['StockCode'].isin(stock_codes_of_target_customers)]\n",
    "cut_df.info()"
   ]
  },
  {
   "cell_type": "markdown",
   "id": "20bbaf6b",
   "metadata": {},
   "source": [
    "## 2) Calcolo la media del prezzo di vendita per ogni singolo prodotto"
   ]
  },
  {
   "cell_type": "code",
   "execution_count": 15,
   "id": "cc7edb59",
   "metadata": {},
   "outputs": [
    {
     "name": "stderr",
     "output_type": "stream",
     "text": [
      "/Users/leoar/Desktop/DATA_MINING_PROJ/dev/venv/lib/python3.8/site-packages/pandas/core/frame.py:3607: SettingWithCopyWarning: \n",
      "A value is trying to be set on a copy of a slice from a DataFrame.\n",
      "Try using .loc[row_indexer,col_indexer] = value instead\n",
      "\n",
      "See the caveats in the documentation: https://pandas.pydata.org/pandas-docs/stable/user_guide/indexing.html#returning-a-view-versus-a-copy\n",
      "  self._set_item(key, value)\n"
     ]
    }
   ],
   "source": [
    "cut_df['PriceMean'] = 0"
   ]
  },
  {
   "cell_type": "code",
   "execution_count": 16,
   "id": "8cbb6751",
   "metadata": {},
   "outputs": [
    {
     "name": "stderr",
     "output_type": "stream",
     "text": [
      "/Users/leoar/Desktop/DATA_MINING_PROJ/dev/venv/lib/python3.8/site-packages/pandas/core/indexing.py:1817: SettingWithCopyWarning: \n",
      "A value is trying to be set on a copy of a slice from a DataFrame.\n",
      "Try using .loc[row_indexer,col_indexer] = value instead\n",
      "\n",
      "See the caveats in the documentation: https://pandas.pydata.org/pandas-docs/stable/user_guide/indexing.html#returning-a-view-versus-a-copy\n",
      "  self._setitem_single_column(loc, value, pi)\n"
     ]
    }
   ],
   "source": [
    "for item in list(cut_df['StockCode'].unique()):\n",
    "    #df.loc[df[<some_column_name>] == <condition>, [<another_column_name>]]\n",
    "    cut_df.loc[cut_df['StockCode']==item, ['PriceMean']] = \n",
    "        (cut_df[cut_df['StockCode']==item]['UnitPrice'].mean())"
   ]
  },
  {
   "cell_type": "code",
   "execution_count": 17,
   "id": "07efa657",
   "metadata": {},
   "outputs": [
    {
     "data": {
      "text/html": [
       "<div>\n",
       "<style scoped>\n",
       "    .dataframe tbody tr th:only-of-type {\n",
       "        vertical-align: middle;\n",
       "    }\n",
       "\n",
       "    .dataframe tbody tr th {\n",
       "        vertical-align: top;\n",
       "    }\n",
       "\n",
       "    .dataframe thead th {\n",
       "        text-align: right;\n",
       "    }\n",
       "</style>\n",
       "<table border=\"1\" class=\"dataframe\">\n",
       "  <thead>\n",
       "    <tr style=\"text-align: right;\">\n",
       "      <th></th>\n",
       "      <th>InvoiceNo</th>\n",
       "      <th>StockCode</th>\n",
       "      <th>Description</th>\n",
       "      <th>Quantity</th>\n",
       "      <th>InvoiceDate</th>\n",
       "      <th>UnitPrice</th>\n",
       "      <th>CustomerID</th>\n",
       "      <th>Country</th>\n",
       "      <th>Sales</th>\n",
       "      <th>PriceMean</th>\n",
       "    </tr>\n",
       "  </thead>\n",
       "  <tbody>\n",
       "    <tr>\n",
       "      <th>0</th>\n",
       "      <td>536365</td>\n",
       "      <td>85123A</td>\n",
       "      <td>WHITE HANGING HEART T-LIGHT HOLDER</td>\n",
       "      <td>6</td>\n",
       "      <td>2010-12-01 08:26:00</td>\n",
       "      <td>2.55</td>\n",
       "      <td>17850.0</td>\n",
       "      <td>United Kingdom</td>\n",
       "      <td>15.30</td>\n",
       "      <td>2.893106</td>\n",
       "    </tr>\n",
       "    <tr>\n",
       "      <th>1</th>\n",
       "      <td>536365</td>\n",
       "      <td>71053</td>\n",
       "      <td>WHITE METAL LANTERN</td>\n",
       "      <td>6</td>\n",
       "      <td>2010-12-01 08:26:00</td>\n",
       "      <td>3.39</td>\n",
       "      <td>17850.0</td>\n",
       "      <td>United Kingdom</td>\n",
       "      <td>20.34</td>\n",
       "      <td>3.768403</td>\n",
       "    </tr>\n",
       "    <tr>\n",
       "      <th>2</th>\n",
       "      <td>536365</td>\n",
       "      <td>84406B</td>\n",
       "      <td>CREAM CUPID HEARTS COAT HANGER</td>\n",
       "      <td>8</td>\n",
       "      <td>2010-12-01 08:26:00</td>\n",
       "      <td>2.75</td>\n",
       "      <td>17850.0</td>\n",
       "      <td>United Kingdom</td>\n",
       "      <td>22.00</td>\n",
       "      <td>3.816311</td>\n",
       "    </tr>\n",
       "    <tr>\n",
       "      <th>3</th>\n",
       "      <td>536365</td>\n",
       "      <td>84029G</td>\n",
       "      <td>KNITTED UNION FLAG HOT WATER BOTTLE</td>\n",
       "      <td>6</td>\n",
       "      <td>2010-12-01 08:26:00</td>\n",
       "      <td>3.39</td>\n",
       "      <td>17850.0</td>\n",
       "      <td>United Kingdom</td>\n",
       "      <td>20.34</td>\n",
       "      <td>4.001595</td>\n",
       "    </tr>\n",
       "    <tr>\n",
       "      <th>4</th>\n",
       "      <td>536365</td>\n",
       "      <td>84029E</td>\n",
       "      <td>RED WOOLLY HOTTIE WHITE HEART.</td>\n",
       "      <td>6</td>\n",
       "      <td>2010-12-01 08:26:00</td>\n",
       "      <td>3.39</td>\n",
       "      <td>17850.0</td>\n",
       "      <td>United Kingdom</td>\n",
       "      <td>20.34</td>\n",
       "      <td>4.054756</td>\n",
       "    </tr>\n",
       "  </tbody>\n",
       "</table>\n",
       "</div>"
      ],
      "text/plain": [
       "   InvoiceNo StockCode                          Description  Quantity  \\\n",
       "0     536365    85123A   WHITE HANGING HEART T-LIGHT HOLDER         6   \n",
       "1     536365     71053                  WHITE METAL LANTERN         6   \n",
       "2     536365    84406B       CREAM CUPID HEARTS COAT HANGER         8   \n",
       "3     536365    84029G  KNITTED UNION FLAG HOT WATER BOTTLE         6   \n",
       "4     536365    84029E       RED WOOLLY HOTTIE WHITE HEART.         6   \n",
       "\n",
       "           InvoiceDate  UnitPrice  CustomerID         Country  Sales  \\\n",
       "0  2010-12-01 08:26:00       2.55     17850.0  United Kingdom  15.30   \n",
       "1  2010-12-01 08:26:00       3.39     17850.0  United Kingdom  20.34   \n",
       "2  2010-12-01 08:26:00       2.75     17850.0  United Kingdom  22.00   \n",
       "3  2010-12-01 08:26:00       3.39     17850.0  United Kingdom  20.34   \n",
       "4  2010-12-01 08:26:00       3.39     17850.0  United Kingdom  20.34   \n",
       "\n",
       "   PriceMean  \n",
       "0   2.893106  \n",
       "1   3.768403  \n",
       "2   3.816311  \n",
       "3   4.001595  \n",
       "4   4.054756  "
      ]
     },
     "execution_count": 17,
     "metadata": {},
     "output_type": "execute_result"
    }
   ],
   "source": [
    "cut_df.head()"
   ]
  },
  {
   "cell_type": "code",
   "execution_count": 18,
   "id": "96a9e14e",
   "metadata": {},
   "outputs": [
    {
     "data": {
      "text/html": [
       "<div>\n",
       "<style scoped>\n",
       "    .dataframe tbody tr th:only-of-type {\n",
       "        vertical-align: middle;\n",
       "    }\n",
       "\n",
       "    .dataframe tbody tr th {\n",
       "        vertical-align: top;\n",
       "    }\n",
       "\n",
       "    .dataframe thead th {\n",
       "        text-align: right;\n",
       "    }\n",
       "</style>\n",
       "<table border=\"1\" class=\"dataframe\">\n",
       "  <thead>\n",
       "    <tr style=\"text-align: right;\">\n",
       "      <th></th>\n",
       "      <th>InvoiceNo</th>\n",
       "      <th>Quantity</th>\n",
       "      <th>UnitPrice</th>\n",
       "      <th>CustomerID</th>\n",
       "      <th>Sales</th>\n",
       "      <th>PriceMean</th>\n",
       "    </tr>\n",
       "  </thead>\n",
       "  <tbody>\n",
       "    <tr>\n",
       "      <th>count</th>\n",
       "      <td>2035.000000</td>\n",
       "      <td>2035.000000</td>\n",
       "      <td>2035.000000</td>\n",
       "      <td>2035.000000</td>\n",
       "      <td>2035.000000</td>\n",
       "      <td>2.035000e+03</td>\n",
       "    </tr>\n",
       "    <tr>\n",
       "      <th>mean</th>\n",
       "      <td>556751.394595</td>\n",
       "      <td>18.074693</td>\n",
       "      <td>2.893106</td>\n",
       "      <td>15561.569042</td>\n",
       "      <td>49.436609</td>\n",
       "      <td>2.893106e+00</td>\n",
       "    </tr>\n",
       "    <tr>\n",
       "      <th>std</th>\n",
       "      <td>13055.837231</td>\n",
       "      <td>76.000338</td>\n",
       "      <td>0.247142</td>\n",
       "      <td>1615.898612</td>\n",
       "      <td>203.530358</td>\n",
       "      <td>4.441984e-16</td>\n",
       "    </tr>\n",
       "    <tr>\n",
       "      <th>min</th>\n",
       "      <td>536365.000000</td>\n",
       "      <td>1.000000</td>\n",
       "      <td>2.400000</td>\n",
       "      <td>12370.000000</td>\n",
       "      <td>2.950000</td>\n",
       "      <td>2.893106e+00</td>\n",
       "    </tr>\n",
       "    <tr>\n",
       "      <th>25%</th>\n",
       "      <td>545565.000000</td>\n",
       "      <td>4.000000</td>\n",
       "      <td>2.950000</td>\n",
       "      <td>14239.000000</td>\n",
       "      <td>11.800000</td>\n",
       "      <td>2.893106e+00</td>\n",
       "    </tr>\n",
       "    <tr>\n",
       "      <th>50%</th>\n",
       "      <td>555002.000000</td>\n",
       "      <td>6.000000</td>\n",
       "      <td>2.950000</td>\n",
       "      <td>15598.000000</td>\n",
       "      <td>17.700000</td>\n",
       "      <td>2.893106e+00</td>\n",
       "    </tr>\n",
       "    <tr>\n",
       "      <th>75%</th>\n",
       "      <td>567466.000000</td>\n",
       "      <td>12.000000</td>\n",
       "      <td>2.950000</td>\n",
       "      <td>16931.000000</td>\n",
       "      <td>35.400000</td>\n",
       "      <td>2.893106e+00</td>\n",
       "    </tr>\n",
       "    <tr>\n",
       "      <th>max</th>\n",
       "      <td>581538.000000</td>\n",
       "      <td>1930.000000</td>\n",
       "      <td>5.790000</td>\n",
       "      <td>18283.000000</td>\n",
       "      <td>4921.500000</td>\n",
       "      <td>2.893106e+00</td>\n",
       "    </tr>\n",
       "  </tbody>\n",
       "</table>\n",
       "</div>"
      ],
      "text/plain": [
       "           InvoiceNo     Quantity    UnitPrice    CustomerID        Sales  \\\n",
       "count    2035.000000  2035.000000  2035.000000   2035.000000  2035.000000   \n",
       "mean   556751.394595    18.074693     2.893106  15561.569042    49.436609   \n",
       "std     13055.837231    76.000338     0.247142   1615.898612   203.530358   \n",
       "min    536365.000000     1.000000     2.400000  12370.000000     2.950000   \n",
       "25%    545565.000000     4.000000     2.950000  14239.000000    11.800000   \n",
       "50%    555002.000000     6.000000     2.950000  15598.000000    17.700000   \n",
       "75%    567466.000000    12.000000     2.950000  16931.000000    35.400000   \n",
       "max    581538.000000  1930.000000     5.790000  18283.000000  4921.500000   \n",
       "\n",
       "          PriceMean  \n",
       "count  2.035000e+03  \n",
       "mean   2.893106e+00  \n",
       "std    4.441984e-16  \n",
       "min    2.893106e+00  \n",
       "25%    2.893106e+00  \n",
       "50%    2.893106e+00  \n",
       "75%    2.893106e+00  \n",
       "max    2.893106e+00  "
      ]
     },
     "execution_count": 18,
     "metadata": {},
     "output_type": "execute_result"
    }
   ],
   "source": [
    "cut_df[cut_df['StockCode']=='85123A'].describe()"
   ]
  },
  {
   "cell_type": "markdown",
   "id": "e72dfe78",
   "metadata": {},
   "source": [
    "#### Adesso abbiamo a disposizione un subset di clienti leali con un alta soglia di spesa e il prezzo medio di vendita per ogni prodotto. Calcolando la distanza tra il prezzo di acquisto in ogni singola transazione e la media del prezzo, ottengo il numero di volte in cui ogni cliente ha acquistato almeno un certo numero di prodotti ad un prezzo scontato (calcolando la percentuale dello sconto rispetto alla media, non potendo conoscere il prezzo di listino) e, ordinando il dataset per tale valore, ottengo la lista dei clienti con un'alta tendenza all'acquisto di stock di prodotti a prezzi scontati."
   ]
  },
  {
   "cell_type": "markdown",
   "id": "8b840113",
   "metadata": {},
   "source": [
    "## 3) Calcolo la percentuale di sconto rispetto alla media per ogni acquisto"
   ]
  },
  {
   "cell_type": "code",
   "execution_count": 19,
   "id": "29a466ba",
   "metadata": {},
   "outputs": [
    {
     "name": "stderr",
     "output_type": "stream",
     "text": [
      "/Users/leoar/Desktop/DATA_MINING_PROJ/dev/venv/lib/python3.8/site-packages/pandas/core/frame.py:3607: SettingWithCopyWarning: \n",
      "A value is trying to be set on a copy of a slice from a DataFrame.\n",
      "Try using .loc[row_indexer,col_indexer] = value instead\n",
      "\n",
      "See the caveats in the documentation: https://pandas.pydata.org/pandas-docs/stable/user_guide/indexing.html#returning-a-view-versus-a-copy\n",
      "  self._set_item(key, value)\n"
     ]
    }
   ],
   "source": [
    "cut_df['DiscountPercent'] = 0\n",
    "cut_df['DiscountPercent'] = cut_df.apply(lambda row: (\n",
    "    (row['PriceMean'] - row['UnitPrice'])/row['PriceMean'])*100, axis=1)"
   ]
  },
  {
   "cell_type": "code",
   "execution_count": 20,
   "id": "ebfeacea",
   "metadata": {},
   "outputs": [
    {
     "data": {
      "text/html": [
       "<div>\n",
       "<style scoped>\n",
       "    .dataframe tbody tr th:only-of-type {\n",
       "        vertical-align: middle;\n",
       "    }\n",
       "\n",
       "    .dataframe tbody tr th {\n",
       "        vertical-align: top;\n",
       "    }\n",
       "\n",
       "    .dataframe thead th {\n",
       "        text-align: right;\n",
       "    }\n",
       "</style>\n",
       "<table border=\"1\" class=\"dataframe\">\n",
       "  <thead>\n",
       "    <tr style=\"text-align: right;\">\n",
       "      <th></th>\n",
       "      <th>InvoiceNo</th>\n",
       "      <th>StockCode</th>\n",
       "      <th>Description</th>\n",
       "      <th>Quantity</th>\n",
       "      <th>InvoiceDate</th>\n",
       "      <th>UnitPrice</th>\n",
       "      <th>CustomerID</th>\n",
       "      <th>Country</th>\n",
       "      <th>Sales</th>\n",
       "      <th>PriceMean</th>\n",
       "      <th>DiscountPercent</th>\n",
       "    </tr>\n",
       "  </thead>\n",
       "  <tbody>\n",
       "    <tr>\n",
       "      <th>0</th>\n",
       "      <td>536365</td>\n",
       "      <td>85123A</td>\n",
       "      <td>WHITE HANGING HEART T-LIGHT HOLDER</td>\n",
       "      <td>6</td>\n",
       "      <td>2010-12-01 08:26:00</td>\n",
       "      <td>2.55</td>\n",
       "      <td>17850.0</td>\n",
       "      <td>United Kingdom</td>\n",
       "      <td>15.30</td>\n",
       "      <td>2.893106</td>\n",
       "      <td>11.859423</td>\n",
       "    </tr>\n",
       "    <tr>\n",
       "      <th>1</th>\n",
       "      <td>536365</td>\n",
       "      <td>71053</td>\n",
       "      <td>WHITE METAL LANTERN</td>\n",
       "      <td>6</td>\n",
       "      <td>2010-12-01 08:26:00</td>\n",
       "      <td>3.39</td>\n",
       "      <td>17850.0</td>\n",
       "      <td>United Kingdom</td>\n",
       "      <td>20.34</td>\n",
       "      <td>3.768403</td>\n",
       "      <td>10.041469</td>\n",
       "    </tr>\n",
       "    <tr>\n",
       "      <th>2</th>\n",
       "      <td>536365</td>\n",
       "      <td>84406B</td>\n",
       "      <td>CREAM CUPID HEARTS COAT HANGER</td>\n",
       "      <td>8</td>\n",
       "      <td>2010-12-01 08:26:00</td>\n",
       "      <td>2.75</td>\n",
       "      <td>17850.0</td>\n",
       "      <td>United Kingdom</td>\n",
       "      <td>22.00</td>\n",
       "      <td>3.816311</td>\n",
       "      <td>27.940892</td>\n",
       "    </tr>\n",
       "    <tr>\n",
       "      <th>3</th>\n",
       "      <td>536365</td>\n",
       "      <td>84029G</td>\n",
       "      <td>KNITTED UNION FLAG HOT WATER BOTTLE</td>\n",
       "      <td>6</td>\n",
       "      <td>2010-12-01 08:26:00</td>\n",
       "      <td>3.39</td>\n",
       "      <td>17850.0</td>\n",
       "      <td>United Kingdom</td>\n",
       "      <td>20.34</td>\n",
       "      <td>4.001595</td>\n",
       "      <td>15.283783</td>\n",
       "    </tr>\n",
       "    <tr>\n",
       "      <th>4</th>\n",
       "      <td>536365</td>\n",
       "      <td>84029E</td>\n",
       "      <td>RED WOOLLY HOTTIE WHITE HEART.</td>\n",
       "      <td>6</td>\n",
       "      <td>2010-12-01 08:26:00</td>\n",
       "      <td>3.39</td>\n",
       "      <td>17850.0</td>\n",
       "      <td>United Kingdom</td>\n",
       "      <td>20.34</td>\n",
       "      <td>4.054756</td>\n",
       "      <td>16.394478</td>\n",
       "    </tr>\n",
       "  </tbody>\n",
       "</table>\n",
       "</div>"
      ],
      "text/plain": [
       "   InvoiceNo StockCode                          Description  Quantity  \\\n",
       "0     536365    85123A   WHITE HANGING HEART T-LIGHT HOLDER         6   \n",
       "1     536365     71053                  WHITE METAL LANTERN         6   \n",
       "2     536365    84406B       CREAM CUPID HEARTS COAT HANGER         8   \n",
       "3     536365    84029G  KNITTED UNION FLAG HOT WATER BOTTLE         6   \n",
       "4     536365    84029E       RED WOOLLY HOTTIE WHITE HEART.         6   \n",
       "\n",
       "           InvoiceDate  UnitPrice  CustomerID         Country  Sales  \\\n",
       "0  2010-12-01 08:26:00       2.55     17850.0  United Kingdom  15.30   \n",
       "1  2010-12-01 08:26:00       3.39     17850.0  United Kingdom  20.34   \n",
       "2  2010-12-01 08:26:00       2.75     17850.0  United Kingdom  22.00   \n",
       "3  2010-12-01 08:26:00       3.39     17850.0  United Kingdom  20.34   \n",
       "4  2010-12-01 08:26:00       3.39     17850.0  United Kingdom  20.34   \n",
       "\n",
       "   PriceMean  DiscountPercent  \n",
       "0   2.893106        11.859423  \n",
       "1   3.768403        10.041469  \n",
       "2   3.816311        27.940892  \n",
       "3   4.001595        15.283783  \n",
       "4   4.054756        16.394478  "
      ]
     },
     "execution_count": 20,
     "metadata": {},
     "output_type": "execute_result"
    }
   ],
   "source": [
    "cut_df.head()"
   ]
  },
  {
   "cell_type": "markdown",
   "id": "12f49024",
   "metadata": {},
   "source": [
    "## 4) Creo un contatore cui assegno 1 se sono stati acquistati almeno 20 unità del prodotto ad un prezzo scontato di almeno il 15% rispetto alla media "
   ]
  },
  {
   "cell_type": "code",
   "execution_count": 21,
   "id": "a384b8c6",
   "metadata": {},
   "outputs": [
    {
     "name": "stderr",
     "output_type": "stream",
     "text": [
      "/Users/leoar/Desktop/DATA_MINING_PROJ/dev/venv/lib/python3.8/site-packages/pandas/core/frame.py:3607: SettingWithCopyWarning: \n",
      "A value is trying to be set on a copy of a slice from a DataFrame.\n",
      "Try using .loc[row_indexer,col_indexer] = value instead\n",
      "\n",
      "See the caveats in the documentation: https://pandas.pydata.org/pandas-docs/stable/user_guide/indexing.html#returning-a-view-versus-a-copy\n",
      "  self._set_item(key, value)\n"
     ]
    }
   ],
   "source": [
    "# creo una colonna contatore, che assegna +1 per ogni prodotto di cui\n",
    "#si è registrato un acquisto di almeno 20 unità con uno sconto di \n",
    "#almeno il 15% rispetto al prezzo medio di vendita\n",
    "cut_df['counter'] = 0\n",
    "cut_df['counter'] = cut_df.apply(lambda row: 1 if row['DiscountPercent'] >15\n",
    "                                 and row['Quantity'] > 20 else 0, axis=1)"
   ]
  },
  {
   "cell_type": "code",
   "execution_count": 22,
   "id": "6f7a820c",
   "metadata": {},
   "outputs": [
    {
     "data": {
      "text/html": [
       "<div>\n",
       "<style scoped>\n",
       "    .dataframe tbody tr th:only-of-type {\n",
       "        vertical-align: middle;\n",
       "    }\n",
       "\n",
       "    .dataframe tbody tr th {\n",
       "        vertical-align: top;\n",
       "    }\n",
       "\n",
       "    .dataframe thead th {\n",
       "        text-align: right;\n",
       "    }\n",
       "</style>\n",
       "<table border=\"1\" class=\"dataframe\">\n",
       "  <thead>\n",
       "    <tr style=\"text-align: right;\">\n",
       "      <th></th>\n",
       "      <th>InvoiceNo</th>\n",
       "      <th>StockCode</th>\n",
       "      <th>Description</th>\n",
       "      <th>Quantity</th>\n",
       "      <th>InvoiceDate</th>\n",
       "      <th>UnitPrice</th>\n",
       "      <th>CustomerID</th>\n",
       "      <th>Country</th>\n",
       "      <th>Sales</th>\n",
       "      <th>PriceMean</th>\n",
       "      <th>DiscountPercent</th>\n",
       "      <th>counter</th>\n",
       "    </tr>\n",
       "  </thead>\n",
       "  <tbody>\n",
       "    <tr>\n",
       "      <th>65</th>\n",
       "      <td>536374</td>\n",
       "      <td>21258</td>\n",
       "      <td>VICTORIAN SEWING BOX LARGE</td>\n",
       "      <td>32</td>\n",
       "      <td>2010-12-01 09:09:00</td>\n",
       "      <td>10.95</td>\n",
       "      <td>15100.0</td>\n",
       "      <td>United Kingdom</td>\n",
       "      <td>350.40</td>\n",
       "      <td>12.952358</td>\n",
       "      <td>15.459412</td>\n",
       "      <td>1</td>\n",
       "    </tr>\n",
       "    <tr>\n",
       "      <th>82</th>\n",
       "      <td>536376</td>\n",
       "      <td>22114</td>\n",
       "      <td>HOT WATER BOTTLE TEA AND SYMPATHY</td>\n",
       "      <td>48</td>\n",
       "      <td>2010-12-01 09:32:00</td>\n",
       "      <td>3.45</td>\n",
       "      <td>15291.0</td>\n",
       "      <td>United Kingdom</td>\n",
       "      <td>165.60</td>\n",
       "      <td>4.212192</td>\n",
       "      <td>18.094908</td>\n",
       "      <td>1</td>\n",
       "    </tr>\n",
       "    <tr>\n",
       "      <th>96</th>\n",
       "      <td>536378</td>\n",
       "      <td>21212</td>\n",
       "      <td>PACK OF 72 RETROSPOT CAKE CASES</td>\n",
       "      <td>120</td>\n",
       "      <td>2010-12-01 09:37:00</td>\n",
       "      <td>0.42</td>\n",
       "      <td>14688.0</td>\n",
       "      <td>United Kingdom</td>\n",
       "      <td>50.40</td>\n",
       "      <td>0.548212</td>\n",
       "      <td>23.387248</td>\n",
       "      <td>1</td>\n",
       "    </tr>\n",
       "    <tr>\n",
       "      <th>102</th>\n",
       "      <td>536378</td>\n",
       "      <td>85071B</td>\n",
       "      <td>RED CHARLIE+LOLA PERSONAL DOORSIGN</td>\n",
       "      <td>96</td>\n",
       "      <td>2010-12-01 09:37:00</td>\n",
       "      <td>0.38</td>\n",
       "      <td>14688.0</td>\n",
       "      <td>United Kingdom</td>\n",
       "      <td>36.48</td>\n",
       "      <td>0.622455</td>\n",
       "      <td>38.951366</td>\n",
       "      <td>1</td>\n",
       "    </tr>\n",
       "    <tr>\n",
       "      <th>173</th>\n",
       "      <td>536386</td>\n",
       "      <td>84880</td>\n",
       "      <td>WHITE WIRE EGG HOLDER</td>\n",
       "      <td>36</td>\n",
       "      <td>2010-12-01 09:57:00</td>\n",
       "      <td>4.95</td>\n",
       "      <td>16029.0</td>\n",
       "      <td>United Kingdom</td>\n",
       "      <td>178.20</td>\n",
       "      <td>7.061029</td>\n",
       "      <td>29.896907</td>\n",
       "      <td>1</td>\n",
       "    </tr>\n",
       "  </tbody>\n",
       "</table>\n",
       "</div>"
      ],
      "text/plain": [
       "     InvoiceNo StockCode                         Description  Quantity  \\\n",
       "65      536374     21258          VICTORIAN SEWING BOX LARGE        32   \n",
       "82      536376     22114   HOT WATER BOTTLE TEA AND SYMPATHY        48   \n",
       "96      536378     21212     PACK OF 72 RETROSPOT CAKE CASES       120   \n",
       "102     536378    85071B  RED CHARLIE+LOLA PERSONAL DOORSIGN        96   \n",
       "173     536386     84880               WHITE WIRE EGG HOLDER        36   \n",
       "\n",
       "             InvoiceDate  UnitPrice  CustomerID         Country   Sales  \\\n",
       "65   2010-12-01 09:09:00      10.95     15100.0  United Kingdom  350.40   \n",
       "82   2010-12-01 09:32:00       3.45     15291.0  United Kingdom  165.60   \n",
       "96   2010-12-01 09:37:00       0.42     14688.0  United Kingdom   50.40   \n",
       "102  2010-12-01 09:37:00       0.38     14688.0  United Kingdom   36.48   \n",
       "173  2010-12-01 09:57:00       4.95     16029.0  United Kingdom  178.20   \n",
       "\n",
       "     PriceMean  DiscountPercent  counter  \n",
       "65   12.952358        15.459412        1  \n",
       "82    4.212192        18.094908        1  \n",
       "96    0.548212        23.387248        1  \n",
       "102   0.622455        38.951366        1  \n",
       "173   7.061029        29.896907        1  "
      ]
     },
     "execution_count": 22,
     "metadata": {},
     "output_type": "execute_result"
    }
   ],
   "source": [
    "cut_df[cut_df['counter']==1].head()"
   ]
  },
  {
   "cell_type": "code",
   "execution_count": 23,
   "id": "666211ca",
   "metadata": {},
   "outputs": [],
   "source": [
    "sum_of_disc = cut_df.groupby(['CustomerID'])['counter'].sum()"
   ]
  },
  {
   "cell_type": "code",
   "execution_count": 26,
   "id": "d72caebc",
   "metadata": {},
   "outputs": [
    {
     "data": {
      "text/plain": [
       "CustomerID\n",
       "14646.0    623\n",
       "14298.0    604\n",
       "18102.0    301\n",
       "13694.0    270\n",
       "14911.0    270\n",
       "Name: counter, dtype: int64"
      ]
     },
     "execution_count": 26,
     "metadata": {},
     "output_type": "execute_result"
    }
   ],
   "source": [
    "sum_of_disc.sort_values(ascending=False).head()"
   ]
  },
  {
   "cell_type": "markdown",
   "id": "a9e56a6a",
   "metadata": {},
   "source": [
    "## 5) Seleziono i 100 clienti con il più alto valore di counter ed costruisco un dataset in cui ad ogni cliente corrisponde un insieme di valori acquistati e la rispettiva data di acquisto di tale insieme."
   ]
  },
  {
   "cell_type": "code",
   "execution_count": 27,
   "id": "e5bf0a4b",
   "metadata": {},
   "outputs": [],
   "source": [
    "max_discounter = sum_of_disc.sort_values(ascending=False).head(100)"
   ]
  },
  {
   "cell_type": "code",
   "execution_count": 28,
   "id": "d6ad88c5",
   "metadata": {},
   "outputs": [
    {
     "data": {
      "text/plain": [
       "CustomerID\n",
       "14646.0    623\n",
       "14298.0    604\n",
       "18102.0    301\n",
       "13694.0    270\n",
       "14911.0    270\n",
       "          ... \n",
       "13599.0     18\n",
       "13225.0     18\n",
       "16558.0     18\n",
       "13576.0     18\n",
       "15125.0     18\n",
       "Name: counter, Length: 100, dtype: int64"
      ]
     },
     "execution_count": 28,
     "metadata": {},
     "output_type": "execute_result"
    }
   ],
   "source": [
    "max_discounter"
   ]
  },
  {
   "cell_type": "code",
   "execution_count": 29,
   "id": "80cfae4c",
   "metadata": {},
   "outputs": [],
   "source": [
    "max_disc_df = cut_df[cut_df['CustomerID'].isin(\n",
    "        list(max_discounter.index))]"
   ]
  },
  {
   "cell_type": "code",
   "execution_count": 30,
   "id": "ea96432c",
   "metadata": {},
   "outputs": [],
   "source": [
    "max_disc_df = max_disc_df[max_disc_df['counter']==1]"
   ]
  },
  {
   "cell_type": "code",
   "execution_count": 31,
   "id": "8313af1b",
   "metadata": {},
   "outputs": [
    {
     "data": {
      "text/html": [
       "<div>\n",
       "<style scoped>\n",
       "    .dataframe tbody tr th:only-of-type {\n",
       "        vertical-align: middle;\n",
       "    }\n",
       "\n",
       "    .dataframe tbody tr th {\n",
       "        vertical-align: top;\n",
       "    }\n",
       "\n",
       "    .dataframe thead th {\n",
       "        text-align: right;\n",
       "    }\n",
       "</style>\n",
       "<table border=\"1\" class=\"dataframe\">\n",
       "  <thead>\n",
       "    <tr style=\"text-align: right;\">\n",
       "      <th></th>\n",
       "      <th>InvoiceNo</th>\n",
       "      <th>StockCode</th>\n",
       "      <th>Description</th>\n",
       "      <th>Quantity</th>\n",
       "      <th>InvoiceDate</th>\n",
       "      <th>UnitPrice</th>\n",
       "      <th>CustomerID</th>\n",
       "      <th>Country</th>\n",
       "      <th>Sales</th>\n",
       "      <th>PriceMean</th>\n",
       "      <th>DiscountPercent</th>\n",
       "      <th>counter</th>\n",
       "    </tr>\n",
       "  </thead>\n",
       "  <tbody>\n",
       "    <tr>\n",
       "      <th>173</th>\n",
       "      <td>536386</td>\n",
       "      <td>84880</td>\n",
       "      <td>WHITE WIRE EGG HOLDER</td>\n",
       "      <td>36</td>\n",
       "      <td>2010-12-01 09:57:00</td>\n",
       "      <td>4.95</td>\n",
       "      <td>16029.0</td>\n",
       "      <td>United Kingdom</td>\n",
       "      <td>178.20</td>\n",
       "      <td>7.061029</td>\n",
       "      <td>29.896907</td>\n",
       "      <td>1</td>\n",
       "    </tr>\n",
       "    <tr>\n",
       "      <th>174</th>\n",
       "      <td>536386</td>\n",
       "      <td>85099C</td>\n",
       "      <td>JUMBO  BAG BAROQUE BLACK WHITE</td>\n",
       "      <td>100</td>\n",
       "      <td>2010-12-01 09:57:00</td>\n",
       "      <td>1.65</td>\n",
       "      <td>16029.0</td>\n",
       "      <td>United Kingdom</td>\n",
       "      <td>165.00</td>\n",
       "      <td>2.012231</td>\n",
       "      <td>18.001448</td>\n",
       "      <td>1</td>\n",
       "    </tr>\n",
       "    <tr>\n",
       "      <th>175</th>\n",
       "      <td>536386</td>\n",
       "      <td>85099B</td>\n",
       "      <td>JUMBO BAG RED RETROSPOT</td>\n",
       "      <td>100</td>\n",
       "      <td>2010-12-01 09:57:00</td>\n",
       "      <td>1.65</td>\n",
       "      <td>16029.0</td>\n",
       "      <td>United Kingdom</td>\n",
       "      <td>165.00</td>\n",
       "      <td>2.015878</td>\n",
       "      <td>18.149794</td>\n",
       "      <td>1</td>\n",
       "    </tr>\n",
       "    <tr>\n",
       "      <th>176</th>\n",
       "      <td>536387</td>\n",
       "      <td>79321</td>\n",
       "      <td>CHILLI LIGHTS</td>\n",
       "      <td>192</td>\n",
       "      <td>2010-12-01 09:58:00</td>\n",
       "      <td>3.82</td>\n",
       "      <td>16029.0</td>\n",
       "      <td>United Kingdom</td>\n",
       "      <td>733.44</td>\n",
       "      <td>5.428760</td>\n",
       "      <td>29.634017</td>\n",
       "      <td>1</td>\n",
       "    </tr>\n",
       "    <tr>\n",
       "      <th>177</th>\n",
       "      <td>536387</td>\n",
       "      <td>22780</td>\n",
       "      <td>LIGHT GARLAND BUTTERFILES PINK</td>\n",
       "      <td>192</td>\n",
       "      <td>2010-12-01 09:58:00</td>\n",
       "      <td>3.37</td>\n",
       "      <td>16029.0</td>\n",
       "      <td>United Kingdom</td>\n",
       "      <td>647.04</td>\n",
       "      <td>4.184394</td>\n",
       "      <td>19.462650</td>\n",
       "      <td>1</td>\n",
       "    </tr>\n",
       "  </tbody>\n",
       "</table>\n",
       "</div>"
      ],
      "text/plain": [
       "     InvoiceNo StockCode                     Description  Quantity  \\\n",
       "173     536386     84880           WHITE WIRE EGG HOLDER        36   \n",
       "174     536386    85099C  JUMBO  BAG BAROQUE BLACK WHITE       100   \n",
       "175     536386    85099B         JUMBO BAG RED RETROSPOT       100   \n",
       "176     536387     79321                   CHILLI LIGHTS       192   \n",
       "177     536387     22780  LIGHT GARLAND BUTTERFILES PINK       192   \n",
       "\n",
       "             InvoiceDate  UnitPrice  CustomerID         Country   Sales  \\\n",
       "173  2010-12-01 09:57:00       4.95     16029.0  United Kingdom  178.20   \n",
       "174  2010-12-01 09:57:00       1.65     16029.0  United Kingdom  165.00   \n",
       "175  2010-12-01 09:57:00       1.65     16029.0  United Kingdom  165.00   \n",
       "176  2010-12-01 09:58:00       3.82     16029.0  United Kingdom  733.44   \n",
       "177  2010-12-01 09:58:00       3.37     16029.0  United Kingdom  647.04   \n",
       "\n",
       "     PriceMean  DiscountPercent  counter  \n",
       "173   7.061029        29.896907        1  \n",
       "174   2.012231        18.001448        1  \n",
       "175   2.015878        18.149794        1  \n",
       "176   5.428760        29.634017        1  \n",
       "177   4.184394        19.462650        1  "
      ]
     },
     "execution_count": 31,
     "metadata": {},
     "output_type": "execute_result"
    }
   ],
   "source": [
    "max_disc_df.head()"
   ]
  },
  {
   "cell_type": "code",
   "execution_count": 32,
   "id": "d5ab6fa5",
   "metadata": {},
   "outputs": [],
   "source": [
    "buyed_items_per_cust = max_disc_df.groupby(\n",
    "    ['CustomerID','InvoiceDate'])['StockCode'].apply(set)"
   ]
  },
  {
   "cell_type": "code",
   "execution_count": 33,
   "id": "748967c1",
   "metadata": {},
   "outputs": [
    {
     "data": {
      "text/plain": [
       "CustomerID  InvoiceDate        \n",
       "12415.0     2011-01-06 11:12:00    {22077, 22492, 21891, 22522, 22620, 21238, 223...\n",
       "            2011-02-15 09:52:00    {21212, 23230, 20973, 22617, 23231, 22907, 226...\n",
       "            2011-03-03 10:59:00    {21509, 22993, 22045, 22028, 21984, 21086, 220...\n",
       "            2011-05-17 15:42:00    {23173, 23253, 22549, 21900, 85132A, 23298, 22...\n",
       "            2011-05-20 14:13:00                                              {22712}\n",
       "                                                         ...                        \n",
       "18102.0     2011-11-04 10:38:00    {23536, 23528, 22189, 23403, 23322, 22470, 235...\n",
       "            2011-11-04 10:57:00    {23535, 23524, 23531, 23541, 23529, 23527, 221...\n",
       "            2011-11-28 12:55:00                                              {85152}\n",
       "            2011-12-08 18:43:00    {23535, 23531, 23401, 22188, 23530, 82484, 235...\n",
       "            2011-12-09 11:50:00                                              {23404}\n",
       "Name: StockCode, Length: 1338, dtype: object"
      ]
     },
     "execution_count": 33,
     "metadata": {},
     "output_type": "execute_result"
    }
   ],
   "source": [
    "buyed_items_per_cust"
   ]
  },
  {
   "cell_type": "code",
   "execution_count": 34,
   "id": "334ee0ad",
   "metadata": {},
   "outputs": [],
   "source": [
    "buyed_items_per_cust.to_csv('buyed_items_per_customer.csv')"
   ]
  },
  {
   "cell_type": "markdown",
   "id": "60e29285",
   "metadata": {},
   "source": [
    "### Attraverso il dataset creato, dopo aver individuato le regole di associazione, trovando le intersezioni tra l'ultimo acquisto di ogni cliente e gli antecedents di tali regole, possiamo individuare un insieme di prodotti da consigliare a tale cliente per il prossimo acquisto."
   ]
  },
  {
   "cell_type": "markdown",
   "id": "932f4195",
   "metadata": {},
   "source": [
    "### Al fine di creare un sistema più coerente, decido di uitilizzare, per l'analisi di associazione, esclusivamente l'insieme delle transazioni generate dai 100 clienti selezionati. Questo al fine di poter dare un consiglio di acquisto basato non solo sulla frequenza di acquisto dei prodotti ma anche sulle caratteristiche e propensioni di acquisto di clienti simili a quelli presi in considerazione. Costruisco quindi il dataframe contenente tali dati."
   ]
  },
  {
   "cell_type": "code",
   "execution_count": 35,
   "id": "09426b74",
   "metadata": {},
   "outputs": [
    {
     "data": {
      "text/html": [
       "<div>\n",
       "<style scoped>\n",
       "    .dataframe tbody tr th:only-of-type {\n",
       "        vertical-align: middle;\n",
       "    }\n",
       "\n",
       "    .dataframe tbody tr th {\n",
       "        vertical-align: top;\n",
       "    }\n",
       "\n",
       "    .dataframe thead th {\n",
       "        text-align: right;\n",
       "    }\n",
       "</style>\n",
       "<table border=\"1\" class=\"dataframe\">\n",
       "  <thead>\n",
       "    <tr style=\"text-align: right;\">\n",
       "      <th></th>\n",
       "      <th>InvoiceNo</th>\n",
       "      <th>StockCode</th>\n",
       "      <th>Description</th>\n",
       "      <th>Quantity</th>\n",
       "      <th>InvoiceDate</th>\n",
       "      <th>UnitPrice</th>\n",
       "      <th>CustomerID</th>\n",
       "      <th>Country</th>\n",
       "      <th>Sales</th>\n",
       "    </tr>\n",
       "  </thead>\n",
       "  <tbody>\n",
       "    <tr>\n",
       "      <th>106</th>\n",
       "      <td>536381</td>\n",
       "      <td>22139</td>\n",
       "      <td>RETROSPOT TEA SET CERAMIC 11 PC</td>\n",
       "      <td>23</td>\n",
       "      <td>2010-12-01 09:41:00</td>\n",
       "      <td>4.25</td>\n",
       "      <td>15311.0</td>\n",
       "      <td>United Kingdom</td>\n",
       "      <td>97.75</td>\n",
       "    </tr>\n",
       "    <tr>\n",
       "      <th>107</th>\n",
       "      <td>536381</td>\n",
       "      <td>84854</td>\n",
       "      <td>GIRLY PINK TOOL SET</td>\n",
       "      <td>5</td>\n",
       "      <td>2010-12-01 09:41:00</td>\n",
       "      <td>4.95</td>\n",
       "      <td>15311.0</td>\n",
       "      <td>United Kingdom</td>\n",
       "      <td>24.75</td>\n",
       "    </tr>\n",
       "    <tr>\n",
       "      <th>108</th>\n",
       "      <td>536381</td>\n",
       "      <td>22411</td>\n",
       "      <td>JUMBO SHOPPER VINTAGE RED PAISLEY</td>\n",
       "      <td>10</td>\n",
       "      <td>2010-12-01 09:41:00</td>\n",
       "      <td>1.95</td>\n",
       "      <td>15311.0</td>\n",
       "      <td>United Kingdom</td>\n",
       "      <td>19.50</td>\n",
       "    </tr>\n",
       "    <tr>\n",
       "      <th>109</th>\n",
       "      <td>536381</td>\n",
       "      <td>82567</td>\n",
       "      <td>AIRLINE LOUNGE,METAL SIGN</td>\n",
       "      <td>2</td>\n",
       "      <td>2010-12-01 09:41:00</td>\n",
       "      <td>2.10</td>\n",
       "      <td>15311.0</td>\n",
       "      <td>United Kingdom</td>\n",
       "      <td>4.20</td>\n",
       "    </tr>\n",
       "    <tr>\n",
       "      <th>110</th>\n",
       "      <td>536381</td>\n",
       "      <td>21672</td>\n",
       "      <td>WHITE SPOT RED CERAMIC DRAWER KNOB</td>\n",
       "      <td>6</td>\n",
       "      <td>2010-12-01 09:41:00</td>\n",
       "      <td>1.25</td>\n",
       "      <td>15311.0</td>\n",
       "      <td>United Kingdom</td>\n",
       "      <td>7.50</td>\n",
       "    </tr>\n",
       "    <tr>\n",
       "      <th>...</th>\n",
       "      <td>...</td>\n",
       "      <td>...</td>\n",
       "      <td>...</td>\n",
       "      <td>...</td>\n",
       "      <td>...</td>\n",
       "      <td>...</td>\n",
       "      <td>...</td>\n",
       "      <td>...</td>\n",
       "      <td>...</td>\n",
       "    </tr>\n",
       "    <tr>\n",
       "      <th>397831</th>\n",
       "      <td>581580</td>\n",
       "      <td>37500</td>\n",
       "      <td>TEA TIME TEAPOT IN GIFT BOX</td>\n",
       "      <td>1</td>\n",
       "      <td>2011-12-09 12:20:00</td>\n",
       "      <td>4.95</td>\n",
       "      <td>12748.0</td>\n",
       "      <td>United Kingdom</td>\n",
       "      <td>4.95</td>\n",
       "    </tr>\n",
       "    <tr>\n",
       "      <th>397837</th>\n",
       "      <td>581583</td>\n",
       "      <td>20725</td>\n",
       "      <td>LUNCH BAG RED RETROSPOT</td>\n",
       "      <td>40</td>\n",
       "      <td>2011-12-09 12:23:00</td>\n",
       "      <td>1.45</td>\n",
       "      <td>13777.0</td>\n",
       "      <td>United Kingdom</td>\n",
       "      <td>58.00</td>\n",
       "    </tr>\n",
       "    <tr>\n",
       "      <th>397838</th>\n",
       "      <td>581583</td>\n",
       "      <td>85038</td>\n",
       "      <td>6 CHOCOLATE LOVE HEART T-LIGHTS</td>\n",
       "      <td>36</td>\n",
       "      <td>2011-12-09 12:23:00</td>\n",
       "      <td>1.85</td>\n",
       "      <td>13777.0</td>\n",
       "      <td>United Kingdom</td>\n",
       "      <td>66.60</td>\n",
       "    </tr>\n",
       "    <tr>\n",
       "      <th>397839</th>\n",
       "      <td>581584</td>\n",
       "      <td>20832</td>\n",
       "      <td>RED FLOCK LOVE HEART PHOTO FRAME</td>\n",
       "      <td>72</td>\n",
       "      <td>2011-12-09 12:25:00</td>\n",
       "      <td>0.72</td>\n",
       "      <td>13777.0</td>\n",
       "      <td>United Kingdom</td>\n",
       "      <td>51.84</td>\n",
       "    </tr>\n",
       "    <tr>\n",
       "      <th>397840</th>\n",
       "      <td>581584</td>\n",
       "      <td>85038</td>\n",
       "      <td>6 CHOCOLATE LOVE HEART T-LIGHTS</td>\n",
       "      <td>48</td>\n",
       "      <td>2011-12-09 12:25:00</td>\n",
       "      <td>1.85</td>\n",
       "      <td>13777.0</td>\n",
       "      <td>United Kingdom</td>\n",
       "      <td>88.80</td>\n",
       "    </tr>\n",
       "  </tbody>\n",
       "</table>\n",
       "<p>48831 rows × 9 columns</p>\n",
       "</div>"
      ],
      "text/plain": [
       "        InvoiceNo StockCode                         Description  Quantity  \\\n",
       "106        536381     22139    RETROSPOT TEA SET CERAMIC 11 PC         23   \n",
       "107        536381     84854                 GIRLY PINK TOOL SET         5   \n",
       "108        536381     22411   JUMBO SHOPPER VINTAGE RED PAISLEY        10   \n",
       "109        536381     82567           AIRLINE LOUNGE,METAL SIGN         2   \n",
       "110        536381     21672  WHITE SPOT RED CERAMIC DRAWER KNOB         6   \n",
       "...           ...       ...                                 ...       ...   \n",
       "397831     581580     37500         TEA TIME TEAPOT IN GIFT BOX         1   \n",
       "397837     581583     20725             LUNCH BAG RED RETROSPOT        40   \n",
       "397838     581583     85038     6 CHOCOLATE LOVE HEART T-LIGHTS        36   \n",
       "397839     581584     20832    RED FLOCK LOVE HEART PHOTO FRAME        72   \n",
       "397840     581584     85038     6 CHOCOLATE LOVE HEART T-LIGHTS        48   \n",
       "\n",
       "                InvoiceDate  UnitPrice  CustomerID         Country  Sales  \n",
       "106     2010-12-01 09:41:00       4.25     15311.0  United Kingdom  97.75  \n",
       "107     2010-12-01 09:41:00       4.95     15311.0  United Kingdom  24.75  \n",
       "108     2010-12-01 09:41:00       1.95     15311.0  United Kingdom  19.50  \n",
       "109     2010-12-01 09:41:00       2.10     15311.0  United Kingdom   4.20  \n",
       "110     2010-12-01 09:41:00       1.25     15311.0  United Kingdom   7.50  \n",
       "...                     ...        ...         ...             ...    ...  \n",
       "397831  2011-12-09 12:20:00       4.95     12748.0  United Kingdom   4.95  \n",
       "397837  2011-12-09 12:23:00       1.45     13777.0  United Kingdom  58.00  \n",
       "397838  2011-12-09 12:23:00       1.85     13777.0  United Kingdom  66.60  \n",
       "397839  2011-12-09 12:25:00       0.72     13777.0  United Kingdom  51.84  \n",
       "397840  2011-12-09 12:25:00       1.85     13777.0  United Kingdom  88.80  \n",
       "\n",
       "[48831 rows x 9 columns]"
      ]
     },
     "execution_count": 35,
     "metadata": {},
     "output_type": "execute_result"
    }
   ],
   "source": [
    "best_cust_df = df[df['CustomerID'].isin(\n",
    "    list(max_discounter.index))]\n",
    "best_cust_df"
   ]
  },
  {
   "cell_type": "code",
   "execution_count": 36,
   "id": "a8303648",
   "metadata": {},
   "outputs": [],
   "source": [
    "best_cust_df.to_csv('best_customers_df.csv', index = False)"
   ]
  }
 ],
 "metadata": {
  "kernelspec": {
   "display_name": "Python 3 (ipykernel)",
   "language": "python",
   "name": "python3"
  },
  "language_info": {
   "codemirror_mode": {
    "name": "ipython",
    "version": 3
   },
   "file_extension": ".py",
   "mimetype": "text/x-python",
   "name": "python",
   "nbconvert_exporter": "python",
   "pygments_lexer": "ipython3",
   "version": "3.8.2"
  }
 },
 "nbformat": 4,
 "nbformat_minor": 5
}
